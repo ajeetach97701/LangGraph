{
 "cells": [
  {
   "cell_type": "code",
   "execution_count": 2,
   "metadata": {},
   "outputs": [
    {
     "data": {
      "image/jpeg": "[encoded data removed]",
      "text/plain": [
       "<IPython.core.display.Image object>"
      ]
     },
     "metadata": {},
     "output_type": "display_data"
    }
   ],
   "source": [
    "from Agent.agent_take2 import *\n",
    "from Libs.libs import *\n",
    "# from graph import  graph\n",
    "\n",
    "from IPython.display import Image, display\n",
    "\n",
    "\n",
    "display(Image(graph.get_graph(xray=True).draw_mermaid_png()))"
   ]
  },
  {
   "cell_type": "code",
   "execution_count": 2,
   "metadata": {},
   "outputs": [
    {
     "name": "stdout",
     "output_type": "stream",
     "text": [
      "this is state>>>>> {'messages': [HumanMessage(content='Hi. is the doctor kevin anderson at 2024-09-03 11 am?', additional_kwargs={}, response_metadata={})]}\n",
      "{'agent': {'messages': [AIMessage(content='', additional_kwargs={'tool_calls': [{'id': 'call_GYjuz70OdbGJ5iXy4gAoYkVO', 'function': {'arguments': '{\"desired_date\":\"2024-09-03T11:00:00\",\"doctor_name\":\"kevin anderson\"}', 'name': 'check_availability_by_doctor'}, 'type': 'function'}], 'refusal': None}, response_metadata={'token_usage': {'completion_tokens': 38, 'prompt_tokens': 365, 'total_tokens': 403, 'completion_tokens_details': {'reasoning_tokens': 0}}, 'model_name': 'gpt-4o-mini-2024-07-18', 'system_fingerprint': 'fp_f85bea6784', 'finish_reason': 'tool_calls', 'logprobs': None}, id='run-997b5660-e245-49a8-a7d7-a279ed2e1981-0', tool_calls=[{'name': 'check_availability_by_doctor', 'args': {'desired_date': '2024-09-03T11:00:00', 'doctor_name': 'kevin anderson'}, 'id': 'call_GYjuz70OdbGJ5iXy4gAoYkVO', 'type': 'tool_call'}], usage_metadata={'input_tokens': 365, 'output_tokens': 38, 'total_tokens': 403})]}}\n",
      "-----\n",
      "desired date is: 2024-09-03T11:00:00\n",
      "\n",
      "\n",
      "Tool entered with the query kevin anderson for 2024-09-03,11:00:00\n",
      "\n",
      "\n",
      "------------\n",
      "Hello! I see you’re looking to book an appointment with Dr. Kevin Anderson on September 3, 2024, at 11:00 AM. Unfortunately, he is not available at that specific time.\n",
      "\n",
      "However, Dr. Anderson has several other time slots available on that day. Here are some options you might consider:\n",
      "\n",
      "- 08:00 AM\n",
      "- 08:30 AM\n",
      "- 11:30 AM\n",
      "- 12:00 PM\n",
      "- 12:30 PM\n",
      "- 01:00 PM\n",
      "- 02:00 PM\n",
      "- 02:30 PM\n",
      "- 03:00 PM\n",
      "- 03:30 PM\n",
      "- 04:00 PM\n",
      "- 04:30 PM\n",
      "\n",
      "Please let me know if any of these times work for you, and I’d be happy to assist you in scheduling your appointment!\n",
      "------------\n",
      "{'tools': {'messages': [ToolMessage(content='{\"messages\": \"Hello! I see you’re looking to book an appointment with Dr. Kevin Anderson on September 3, 2024, at 11:00 AM. Unfortunately, he is not available at that specific time.\\\\n\\\\nHowever, Dr. Anderson has several other time slots available on that day. Here are some options you might consider:\\\\n\\\\n- 08:00 AM\\\\n- 08:30 AM\\\\n- 11:30 AM\\\\n- 12:00 PM\\\\n- 12:30 PM\\\\n- 01:00 PM\\\\n- 02:00 PM\\\\n- 02:30 PM\\\\n- 03:00 PM\\\\n- 03:30 PM\\\\n- 04:00 PM\\\\n- 04:30 PM\\\\n\\\\nPlease let me know if any of these times work for you, and I’d be happy to assist you in scheduling your appointment!\"}', name='check_availability_by_doctor', tool_call_id='call_GYjuz70OdbGJ5iXy4gAoYkVO')]}}\n",
      "-----\n",
      "this is state>>>>> {'messages': [HumanMessage(content='Hi. is the doctor kevin anderson at 2024-09-03 11 am?', additional_kwargs={}, response_metadata={}), AIMessage(content='', additional_kwargs={'tool_calls': [{'id': 'call_GYjuz70OdbGJ5iXy4gAoYkVO', 'function': {'arguments': '{\"desired_date\":\"2024-09-03T11:00:00\",\"doctor_name\":\"kevin anderson\"}', 'name': 'check_availability_by_doctor'}, 'type': 'function'}], 'refusal': None}, response_metadata={'token_usage': {'completion_tokens': 38, 'prompt_tokens': 365, 'total_tokens': 403, 'completion_tokens_details': {'reasoning_tokens': 0}}, 'model_name': 'gpt-4o-mini-2024-07-18', 'system_fingerprint': 'fp_f85bea6784', 'finish_reason': 'tool_calls', 'logprobs': None}, id='run-997b5660-e245-49a8-a7d7-a279ed2e1981-0', tool_calls=[{'name': 'check_availability_by_doctor', 'args': {'desired_date': '2024-09-03T11:00:00', 'doctor_name': 'kevin anderson'}, 'id': 'call_GYjuz70OdbGJ5iXy4gAoYkVO', 'type': 'tool_call'}], usage_metadata={'input_tokens': 365, 'output_tokens': 38, 'total_tokens': 403}), ToolMessage(content='{\"messages\": \"Hello! I see you’re looking to book an appointment with Dr. Kevin Anderson on September 3, 2024, at 11:00 AM. Unfortunately, he is not available at that specific time.\\\\n\\\\nHowever, Dr. Anderson has several other time slots available on that day. Here are some options you might consider:\\\\n\\\\n- 08:00 AM\\\\n- 08:30 AM\\\\n- 11:30 AM\\\\n- 12:00 PM\\\\n- 12:30 PM\\\\n- 01:00 PM\\\\n- 02:00 PM\\\\n- 02:30 PM\\\\n- 03:00 PM\\\\n- 03:30 PM\\\\n- 04:00 PM\\\\n- 04:30 PM\\\\n\\\\nPlease let me know if any of these times work for you, and I’d be happy to assist you in scheduling your appointment!\"}', name='check_availability_by_doctor', tool_call_id='call_GYjuz70OdbGJ5iXy4gAoYkVO')]}\n",
      "{'agent': {'messages': [AIMessage(content='Dr. Kevin Anderson is not available on September 3, 2024, at 11:00 AM. However, he has several other time slots open that day:\\n\\n- 08:00 AM\\n- 08:30 AM\\n- 11:30 AM\\n- 12:00 PM\\n- 12:30 PM\\n- 01:00 PM\\n- 02:00 PM\\n- 02:30 PM\\n- 03:00 PM\\n- 03:30 PM\\n- 04:00 PM\\n- 04:30 PM\\n\\nLet me know if any of these times work for you!', additional_kwargs={'refusal': None}, response_metadata={'token_usage': {'completion_tokens': 132, 'prompt_tokens': 601, 'total_tokens': 733, 'completion_tokens_details': {'reasoning_tokens': 0}}, 'model_name': 'gpt-4o-mini-2024-07-18', 'system_fingerprint': 'fp_f85bea6784', 'finish_reason': 'stop', 'logprobs': None}, id='run-fd950478-3dd6-4d23-96be-411d2d5afb24-0', usage_metadata={'input_tokens': 601, 'output_tokens': 132, 'total_tokens': 733})]}}\n",
      "-----\n",
      ".......... Dr. Kevin Anderson is not available on September 3, 2024, at 11:00 AM. However, he has several other time slots open that day:\n",
      "\n",
      "- 08:00 AM\n",
      "- 08:30 AM\n",
      "- 11:30 AM\n",
      "- 12:00 PM\n",
      "- 12:30 PM\n",
      "- 01:00 PM\n",
      "- 02:00 PM\n",
      "- 02:30 PM\n",
      "- 03:00 PM\n",
      "- 03:30 PM\n",
      "- 04:00 PM\n",
      "- 04:30 PM\n",
      "\n",
      "Let me know if any of these times work for you!\n",
      ".......... Hi. is the doctor kevin anderson at 2024-09-03 11 am?\n",
      "\n",
      "\n",
      "{'human': 'Hi. is the doctor kevin anderson at 2024-09-03 11 am?', 'ai': 'Dr. Kevin Anderson is not available on September 3, 2024, at 11:00 AM. However, he has several other time slots open that day:\\n\\n- 08:00 AM\\n- 08:30 AM\\n- 11:30 AM\\n- 12:00 PM\\n- 12:30 PM\\n- 01:00 PM\\n- 02:00 PM\\n- 02:30 PM\\n- 03:00 PM\\n- 03:30 PM\\n- 04:00 PM\\n- 04:30 PM\\n\\nLet me know if any of these times work for you!'}\n",
      "\n",
      "\n",
      "{'human': {'messages': [HumanMessage(content='Hi. is the doctor kevin anderson at 2024-09-03 11 am?', additional_kwargs={}, response_metadata={}), AIMessage(content='', additional_kwargs={'tool_calls': [{'id': 'call_GYjuz70OdbGJ5iXy4gAoYkVO', 'function': {'arguments': '{\"desired_date\":\"2024-09-03T11:00:00\",\"doctor_name\":\"kevin anderson\"}', 'name': 'check_availability_by_doctor'}, 'type': 'function'}], 'refusal': None}, response_metadata={'token_usage': {'completion_tokens': 38, 'prompt_tokens': 365, 'total_tokens': 403, 'completion_tokens_details': {'reasoning_tokens': 0}}, 'model_name': 'gpt-4o-mini-2024-07-18', 'system_fingerprint': 'fp_f85bea6784', 'finish_reason': 'tool_calls', 'logprobs': None}, id='run-997b5660-e245-49a8-a7d7-a279ed2e1981-0', tool_calls=[{'name': 'check_availability_by_doctor', 'args': {'desired_date': '2024-09-03T11:00:00', 'doctor_name': 'kevin anderson'}, 'id': 'call_GYjuz70OdbGJ5iXy4gAoYkVO', 'type': 'tool_call'}], usage_metadata={'input_tokens': 365, 'output_tokens': 38, 'total_tokens': 403}), ToolMessage(content='{\"messages\": \"Hello! I see you’re looking to book an appointment with Dr. Kevin Anderson on September 3, 2024, at 11:00 AM. Unfortunately, he is not available at that specific time.\\\\n\\\\nHowever, Dr. Anderson has several other time slots available on that day. Here are some options you might consider:\\\\n\\\\n- 08:00 AM\\\\n- 08:30 AM\\\\n- 11:30 AM\\\\n- 12:00 PM\\\\n- 12:30 PM\\\\n- 01:00 PM\\\\n- 02:00 PM\\\\n- 02:30 PM\\\\n- 03:00 PM\\\\n- 03:30 PM\\\\n- 04:00 PM\\\\n- 04:30 PM\\\\n\\\\nPlease let me know if any of these times work for you, and I’d be happy to assist you in scheduling your appointment!\"}', name='check_availability_by_doctor', tool_call_id='call_GYjuz70OdbGJ5iXy4gAoYkVO'), AIMessage(content='Dr. Kevin Anderson is not available on September 3, 2024, at 11:00 AM. However, he has several other time slots open that day:\\n\\n- 08:00 AM\\n- 08:30 AM\\n- 11:30 AM\\n- 12:00 PM\\n- 12:30 PM\\n- 01:00 PM\\n- 02:00 PM\\n- 02:30 PM\\n- 03:00 PM\\n- 03:30 PM\\n- 04:00 PM\\n- 04:30 PM\\n\\nLet me know if any of these times work for you!', additional_kwargs={'refusal': None}, response_metadata={'token_usage': {'completion_tokens': 132, 'prompt_tokens': 601, 'total_tokens': 733, 'completion_tokens_details': {'reasoning_tokens': 0}}, 'model_name': 'gpt-4o-mini-2024-07-18', 'system_fingerprint': 'fp_f85bea6784', 'finish_reason': 'stop', 'logprobs': None}, id='run-fd950478-3dd6-4d23-96be-411d2d5afb24-0', usage_metadata={'input_tokens': 601, 'output_tokens': 132, 'total_tokens': 733})]}}\n",
      "-----\n"
     ]
    }
   ],
   "source": [
    "from Agent.agent_take2 import *\n",
    "user_input = \"Hi. is the doctor kevin anderson at 2024-09-03 11 am?\"\n",
    "\n",
    "inputs = {\"messages\":[HumanMessage(content=user_input)]}\n",
    "for s in graph.stream(inputs):\n",
    "    try:\n",
    "        if \"__end__\" not in s:\n",
    "            print(s)\n",
    "            print(\"-----\")\n",
    "        else:\n",
    "            print(s['tools']['messages'])\n",
    "    except:\n",
    "        print(\"error\")\n",
    "\n",
    "\n",
    "\n",
    "{'human': {'messages': [HumanMessage(content='is doctor kevin anderson available at  2024 09 03 11 ', \n",
    "                                     additional_kwargs={}, response_metadata={}),\n",
    "                        AIMessage(content='', additional_kwargs={'tool_calls': \n",
    "                            [{'id': 'call_wWD38ASpwVhmVuoORJtW7Krk',\n",
    "                              'function': \n",
    "                                  {'arguments': '{\"desired_date\":\"2024-09-03T11:00:00\",\"doctor_name\":\"kevin anderson\"}', \n",
    "                                   'name': 'check_availability_by_doctor'}, \n",
    "                                  'type': 'function'}], 'refusal': None}, \n",
    "                                  response_metadata={'token_usage': \n",
    "                                      {'completion_tokens': 38, 'prompt_tokens': 363,\n",
    "                                       'total_tokens': 401, 'completion_tokens_details': \n",
    "                                           {'reasoning_tokens': 0}}, \n",
    "                                      'model_name': 'gpt-4o-mini-2024-07-18',\n",
    "                                      'system_fingerprint': 'fp_f85bea6784', 'finish_reason': 'tool_calls', 'logprobs': None}, \n",
    "                                  id='run-b37fdfee-69df-41ae-b083-0b0fca3b4426-0',\n",
    "                                  tool_calls=[{'name': 'check_availability_by_doctor', \n",
    "                                               'args': {'desired_date': '2024-09-03T11:00:00', \n",
    "                                                        'doctor_name': 'kevin anderson'},\n",
    "                                               'id': 'call_wWD38ASpwVhmVuoORJtW7Krk', 'type': 'tool_call'}],\n",
    "                                  usage_metadata={'input_tokens': 363, 'output_tokens': 38, 'total_tokens': 401}), \n",
    "                        ToolMessage(content='{\"messages\": \"Hello! I see you\\'re looking to schedule an appointment with Dr. Kevin Anderson on September 3rd, 2024, at 11:00 AM. Unfortunately, Dr. Anderson is not available at that specific time. \\\\n\\\\nHowever, he does have several other time slots available on that day. Here are the options:\\\\n\\\\n- 08:00 AM\\\\n- 08:30 AM\\\\n- 11:30 AM\\\\n- 12:00 PM\\\\n- 12:30 PM\\\\n- 01:00 PM\\\\n- 02:00 PM\\\\n- 02:30 PM\\\\n- 03:00 PM\\\\n- 03:30 PM\\\\n- 04:00 PM\\\\n- 04:30 PM\\\\n\\\\nPlease let me know if any of these times work for you, and I\\'ll be happy to schedule your appointment!\"}', name='check_availability_by_doctor', tool_call_id='call_wWD38ASpwVhmVuoORJtW7Krk'),\n",
    "                        AIMessage(content='Dr. Kevin Anderson is not available on September 3rd, 2024, at 11:00 AM. However, he has several other time slots available that day:\\n\\n- 08:00 AM\\n- 08:30 AM\\n- 11:30 AM\\n- 12:00 PM\\n- 12:30 PM\\n- 01:00 PM\\n- 02:00 PM\\n- 02:30 PM\\n- 03:00 PM\\n- 03:30 PM\\n- 04:00 PM\\n- 04:30 PM\\n\\nLet me know if any of these times work for you!', \n",
    "                                                                                                                                                                                                                                                                                                                                                                                                                                                                                                                                                                                                                                                                                                                                    additional_kwargs={'refusal': None}, response_metadata={'token_usage': {'completion_tokens': 133, 'prompt_tokens': 594, 'total_tokens': 727, 'completion_tokens_details': {'reasoning_tokens': 0}}, 'model_name': 'gpt-4o-mini-2024-07-18', 'system_fingerprint': 'fp_f85bea6784', 'finish_reason': 'stop', 'logprobs': None}, \n",
    "                                                                                                                                                                                                                                                                                                                                                                                                                                                                                                                                                                                                                                                                                                                                                                                                                                                                                                                                                                                                                                                                                                                                                                                                                                                                                                                                                                                                                                                                                                                                                                                                                                                                                                                                                                                         id='run-7f062aa0-50e4-4e31-ad48-d3eefb9db910-0', \n",
    "                                                                                                                                                                                                                                                                                                                                                                                                                                                                                                                                                                                                                                                                                                                                                                                                                                                                                                                                                                                                                                                                                                                                                                                                                                                                                                                                                                                                                                                                                                                                                                                                                                                                                                                                                                                         usage_metadata={'input_tokens': 594, 'output_tokens': 133, 'total_tokens': 727})], 'senderId': 'abc'}}"
   ]
  },
  {
   "cell_type": "code",
   "execution_count": null,
   "metadata": {},
   "outputs": [],
   "source": [
    "{'human': \n",
    "    {'messages': [HumanMessage(content='Hi. is the doctor kevin anderson at 2024-09-03 11 am?', \n",
    "                               additional_kwargs={}, \n",
    "                               response_metadata={}), \n",
    "                  AIMessage(content='', additional_kwargs={'tool_calls': [{'id': 'call_cdAjABiALQ443TwWtHkKmHCn', \n",
    "                                                                           'function': {'arguments': '{\"desired_date\":\"2024-09-03T11:00:00\",\"doctor_name\":\"kevin anderson\"}', 'name': 'check_availability_by_doctor'}, 'type': 'function'}], 'refusal': None}, response_metadata={'token_usage': {'completion_tokens': 38, 'prompt_tokens': 365, 'total_tokens': 403, 'completion_tokens_details': {'reasoning_tokens': 0}}, 'model_name': 'gpt-4o-mini-2024-07-18', 'system_fingerprint': 'fp_f85bea6784', 'finish_reason': 'tool_calls', 'logprobs': None}, id='run-92a7956a-97be-4685-846e-a292e639b82b-0', tool_calls=[{'name': 'check_availability_by_doctor', 'args': {'desired_date': '2024-09-03T11:00:00', 'doctor_name': 'kevin anderson'}, 'id': 'call_cdAjABiALQ443TwWtHkKmHCn', 'type': 'tool_call'}], usage_metadata={'input_tokens': 365, 'output_tokens': 38, 'total_tokens': 403}), ToolMessage(content='{\"messages\": \"Hello! I see you\\'re looking to schedule an appointment with Dr. Kevin Anderson on September 3, 2024, at 11:00 AM. Unfortunately, Dr. Anderson is not available at that specific time. However, he does have several openings around that time.\\\\n\\\\nHere are some available slots you might consider:\\\\n\\\\n- 08:00 AM\\\\n- 08:30 AM\\\\n- 11:30 AM\\\\n- 12:00 PM\\\\n- 12:30 PM\\\\n\\\\nPlease let me know if any of these times work for you, and I\\'ll be happy to assist you further!\"}', name='check_availability_by_doctor', tool_call_id='call_cdAjABiALQ443TwWtHkKmHCn'), AIMessage(content='Dr. Kevin Anderson is not available on September 3, 2024, at 11:00 AM. However, here are some available slots around that time:\\n\\n- 08:00 AM\\n- 08:30 AM\\n- 11:30 AM\\n- 12:00 PM\\n- 12:30 PM\\n\\nWould any of these times work for you?', additional_kwargs={'refusal': None}, response_metadata={'token_usage': {'completion_tokens': 79, 'prompt_tokens': 546, 'total_tokens': 625, 'completion_tokens_details': {'reasoning_tokens': 0}}, 'model_name': 'gpt-4o-mini-2024-07-18', 'system_fingerprint': 'fp_f85bea6784', 'finish_reason': 'stop', 'logprobs': None}, id='run-6ce88ee3-0698-429e-b767-53428aba692b-{'human': {'messages': [HumanMessage(content='Hi. is the doctor kevin anderson at 2024-09-03 11 am?', additional_kwargs={}, response_metadata={}), AIMessage(content='', additional_kwargs={'tool_calls': [{'id': 'call_A0pF7Wb6pTYyM7TrRtMeLvXK', 'function': {'arguments': '{\"desired_date\":\"2024-09-03T11:00:00\",\"doctor_name\":\"kevin anderson\"}', 'name': 'check_availability_by_doctor'}, 'type': 'function'}], 'refusal': None}, response_metadata={'token_usage': {'completion_tokens': 38, 'prompt_tokens': 365, 'total_tokens': 403, 'completion_tokens_details': {'reasoning_tokens': 0}}, 'model_name': 'gpt-4o-mini-2024-07-18', 'system_fingerprint': 'fp_f85bea6784', 'finish_reason': 'tool_calls', 'logprobs': None}, id='run-b4775eef-bcdd-4b72-af68-3b119808d22c-0', tool_calls=[{'name': 'check_availability_by_doctor', 'args': {'desired_date': '2024-09-03T11:00:00', 'doctor_name': 'kevin anderson'}, 'id': 'call_A0pF7Wb6pTYyM7TrRtMeLvXK', 'type': 'tool_call'}], usage_metadata={'input_tokens': 365, 'output_tokens': 38, 'total_tokens': 403}), ToolMessage(content='{\"messages\": \"Hello! I see you\\'re interested in scheduling an appointment with Dr. Kevin Anderson on September 3rd, 2024. Unfortunately, he is not available at 11:00 AM. \\\\n\\\\nHowever, he has several other time slots available that day. Here are the times you can choose from:\\\\n\\\\n- 08:00 AM\\\\n- 08:30 AM\\\\n- 11:30 AM\\\\n- 12:00 PM\\\\n- 12:30 PM\\\\n- 01:00 PM\\\\n- 02:00 PM\\\\n- 02:30 PM\\\\n- 03:00 PM\\\\n- 03:30 PM\\\\n- 04:00 PM\\\\n- 04:30 PM\\\\n\\\\nPlease let me know if any of these times work for you, and I\\'ll be happy to book your appointment!\"}', name='check_availability_by_doctor', tool_call_id='call_A0pF7Wb6pTYyM7TrRtMeLvXK'), AIMessage(content='Dr. Kevin Anderson is not available at 11:00 AM on September 3rd, 2024. However, he has the following time slots open that day:\\n\\n- 08:00 AM\\n- 08:30 AM\\n- 11:30 AM\\n- 12:00 PM\\n- 12:30 PM\\n- 01:00 PM\\n- 02:00 PM\\n- 02:30 PM\\n- 03:00 PM\\n- 03:30 PM\\n- 04:00 PM\\n- 04:30 PM\\n\\nLet me know if any of these times work for you, and I can help you book the appointment!', additional_kwargs={'refusal': None}, response_metadata={'token_usage': {'completion_tokens': 141, 'prompt_tokens': 591, 'total_tokens': 732, 'completion_tokens_details': {'reasoning_tokens': 0}}, 'model_name': 'gpt-4o-mini-2024-07-18', 'system_fingerprint': 'fp_f85bea6784', 'finish_reason': 'stop', 'logprobs': None}, id='run-9b54cccb-48ab-4618-b675-ecc7ae145d56-0', usage_metadata={'input_tokens': 591, 'output_tokens': 141, 'total_tokens': 732})]}}\n",
    "0', usage_metadata={'input_tokens': 546, 'output_tokens': 79, 'total_tokens': 625})]}}  \n",
    "<class 'langgraph.pregel.io.AddableUpdatesDict'>\n"
   ]
  },
  {
   "cell_type": "code",
   "execution_count": 3,
   "metadata": {},
   "outputs": [
    {
     "ename": "NameError",
     "evalue": "name 'checkpoint' is not defined",
     "output_type": "error",
     "traceback": [
      "\u001b[0;31m---------------------------------------------------------------------------\u001b[0m",
      "\u001b[0;31mNameError\u001b[0m                                 Traceback (most recent call last)",
      "Cell \u001b[0;32mIn[3], line 1\u001b[0m\n\u001b[0;32m----> 1\u001b[0m \u001b[43mcheckpoint\u001b[49m\n",
      "\u001b[0;31mNameError\u001b[0m: name 'checkpoint' is not defined"
     ]
    }
   ],
   "source": [
    "checkpoint"
   ]
  },
  {
   "cell_type": "code",
   "execution_count": 7,
   "metadata": {},
   "outputs": [
    {
     "name": "stdout",
     "output_type": "stream",
     "text": [
      "{'agent': {'messages': [AIMessage(content='', additional_kwargs={'tool_calls': [{'id': 'call_cdAjABiALQ443TwWtHkKmHCn', 'function': {'arguments': '{\"desired_date\":\"2024-09-03\",\"specialization\":\"orthodontist\"}', 'name': 'check_availability_by_specialization'}, 'type': 'function'}], 'refusal': None}, response_metadata={'token_usage': {'completion_tokens': 31, 'prompt_tokens': 319, 'total_tokens': 350, 'completion_tokens_details': {'reasoning_tokens': 0}}, 'model_name': 'gpt-4o-mini-2024-07-18', 'system_fingerprint': 'fp_f85bea6784', 'finish_reason': 'tool_calls', 'logprobs': None}, id='run-4d842c8b-0903-4d3d-bc9c-d9cef84369d5-0', tool_calls=[{'name': 'check_availability_by_specialization', 'args': {'desired_date': '2024-09-03', 'specialization': 'orthodontist'}, 'id': 'call_cdAjABiALQ443TwWtHkKmHCn', 'type': 'tool_call'}], usage_metadata={'input_tokens': 319, 'output_tokens': 31, 'total_tokens': 350})]}}   <class 'langgraph.pregel.io.AddableUpdatesDict'>\n",
      "-----\n",
      "\n",
      "\n",
      "Tool entered with the query orthodontist for 2024-09-03,\n",
      "\n",
      "\n",
      "Hello! I see you're looking for an orthodontist on September 3rd, 2024. We have Dr. Kevin Anderson available throughout the day. Here are the available time slots:\n",
      "\n",
      "- 08:00 AM\n",
      "- 08:30 AM\n",
      "- 11:30 AM\n",
      "- 12:00 PM\n",
      "- 12:30 PM\n",
      "- 01:00 PM\n",
      "- 02:00 PM\n",
      "- 02:30 PM\n",
      "- 03:00 PM\n",
      "- 03:30 PM\n",
      "- 04:00 PM\n",
      "- 04:30 PM\n",
      "\n",
      "Please let me know which time works best for you, and I’ll be happy to schedule your appointment!\n",
      "{'tools': {'messages': [ToolMessage(content=\"Hello! I see you're looking for an orthodontist on September 3rd, 2024. We have Dr. Kevin Anderson available throughout the day. Here are the available time slots:\\n\\n- 08:00 AM\\n- 08:30 AM\\n- 11:30 AM\\n- 12:00 PM\\n- 12:30 PM\\n- 01:00 PM\\n- 02:00 PM\\n- 02:30 PM\\n- 03:00 PM\\n- 03:30 PM\\n- 04:00 PM\\n- 04:30 PM\\n\\nPlease let me know which time works best for you, and I’ll be happy to schedule your appointment!\", name='check_availability_by_specialization', tool_call_id='call_cdAjABiALQ443TwWtHkKmHCn')]}}   <class 'langgraph.pregel.io.AddableUpdatesDict'>\n",
      "-----\n"
     ]
    }
   ],
   "source": [
    "user_input = \"Hi. are there any doctor for orthodontist available at 2024-09-03 for morning?\"\n",
    "\n",
    "\n",
    "inputs = {\"messages\":[HumanMessage(content=input)]}\n",
    "for s in graph.stream(inputs):\n",
    "    try:\n",
    "        if \"__end__\" not in s:\n",
    "            print(s,\" \", type(s))\n",
    "            print(\"-----\")\n",
    "        else:\n",
    "            print(s['tools']['messages'])\n",
    "    except:\n",
    "        print(\"error\")\n"
   ]
  },
  {
   "cell_type": "code",
   "execution_count": 6,
   "metadata": {},
   "outputs": [
    {
     "name": "stdout",
     "output_type": "stream",
     "text": [
      "{'agent': {'messages': [AIMessage(content='', additional_kwargs={'tool_calls': [{'id': 'call_iID9K2Cj8dGZLJRRFl34Ju7n', 'function': {'arguments': '{\"desired_date\":\"2024-09-03T11:30:00\",\"specialization\":\"orthodontist\"}', 'name': 'check_availability_by_specialization'}, 'type': 'function'}], 'refusal': None}, response_metadata={'token_usage': {'completion_tokens': 37, 'prompt_tokens': 329, 'total_tokens': 366, 'completion_tokens_details': {'reasoning_tokens': 0}}, 'model_name': 'gpt-4o-mini-2024-07-18', 'system_fingerprint': 'fp_f85bea6784', 'finish_reason': 'tool_calls', 'logprobs': None}, id='run-5def8993-acd3-4a29-b3be-13a862ad929f-0', tool_calls=[{'name': 'check_availability_by_specialization', 'args': {'desired_date': '2024-09-03T11:30:00', 'specialization': 'orthodontist'}, 'id': 'call_iID9K2Cj8dGZLJRRFl34Ju7n', 'type': 'tool_call'}], usage_metadata={'input_tokens': 329, 'output_tokens': 37, 'total_tokens': 366})]}}   <class 'langgraph.pregel.io.AddableUpdatesDict'>\n",
      "-----\n",
      "\n",
      "\n",
      "Tool entered with the query orthodontist for 2024-09-03,11:30:00\n",
      "\n",
      "\n",
      "Hello! I see you're looking for an orthodontist on September 3, 2024, at 11:30 AM. I’m happy to inform you that Dr. Kevin Anderson is available at that time. \n",
      "\n",
      "Would you like me to go ahead and book that appointment for you? If you need any other time slots, Dr. Anderson is also available at 08:00, 08:30, 12:00, 12:30, 13:00, 14:00, 14:30, 15:00, 15:30, 16:00, and 16:30 on the same day. Just let me know what works best for you!\n",
      "{'tools': {'messages': [ToolMessage(content=\"Hello! I see you're looking for an orthodontist on September 3, 2024, at 11:30 AM. I’m happy to inform you that Dr. Kevin Anderson is available at that time. \\n\\nWould you like me to go ahead and book that appointment for you? If you need any other time slots, Dr. Anderson is also available at 08:00, 08:30, 12:00, 12:30, 13:00, 14:00, 14:30, 15:00, 15:30, 16:00, and 16:30 on the same day. Just let me know what works best for you!\", name='check_availability_by_specialization', tool_call_id='call_iID9K2Cj8dGZLJRRFl34Ju7n')]}}   <class 'langgraph.pregel.io.AddableUpdatesDict'>\n",
      "-----\n"
     ]
    }
   ],
   "source": [
    "user_input = \"Hi. are there any doctor for orthodontist available at 2024-09-03 for 11 :30? i want to book an appointment \"\n",
    "\n",
    "\n",
    "inputs = {\"messages\":[HumanMessage(content=user_input)]}\n",
    "for s in graph.stream(inputs):\n",
    "    try:\n",
    "        if \"__end__\" not in s:\n",
    "            print(s,\" \", type(s))\n",
    "            print(\"-----\")\n",
    "        else:\n",
    "            print(s['tools']['messages'])\n",
    "    except:\n",
    "        print(\"error\")\n"
   ]
  },
  {
   "cell_type": "code",
   "execution_count": 2,
   "metadata": {},
   "outputs": [
    {
     "name": "stdout",
     "output_type": "stream",
     "text": [
      "this is state>>>>> {'messages': [HumanMessage(content='Hi. are there any doctor for orthodontist available at 2024-09-03 for 11 :30? i want to book an appointment ', additional_kwargs={}, response_metadata={})]}\n",
      "{'agent': {'messages': [AIMessage(content='', additional_kwargs={'tool_calls': [{'id': 'call_Yx7e7s9IO77h4mawDJQtj3Rg', 'function': {'arguments': '{\"desired_date\":\"2024-09-03\",\"specialization\":\"orthodontist\"}', 'name': 'check_availability_by_specialization'}, 'type': 'function'}], 'refusal': None}, response_metadata={'token_usage': {'completion_tokens': 31, 'prompt_tokens': 375, 'total_tokens': 406, 'completion_tokens_details': {'reasoning_tokens': 0}}, 'model_name': 'gpt-4o-mini-2024-07-18', 'system_fingerprint': 'fp_f85bea6784', 'finish_reason': 'tool_calls', 'logprobs': None}, id='run-08b0bea7-11b4-4738-b47b-1f026d041128-0', tool_calls=[{'name': 'check_availability_by_specialization', 'args': {'desired_date': '2024-09-03', 'specialization': 'orthodontist'}, 'id': 'call_Yx7e7s9IO77h4mawDJQtj3Rg', 'type': 'tool_call'}], usage_metadata={'input_tokens': 375, 'output_tokens': 31, 'total_tokens': 406})]}}   <class 'langgraph.pregel.io.AddableUpdatesDict'>\n",
      "-----\n",
      "\n",
      "\n",
      "Tool entered with the query orthodontist for 2024-09-03,\n",
      "\n",
      "\n",
      "Hello! I see you're looking for an orthodontist on September 3, 2024. I have great news for you! Dr. Kevin Anderson is available throughout the day. Here are the time slots you can choose from:\n",
      "\n",
      "- 08:00 AM\n",
      "- 08:30 AM\n",
      "- 11:30 AM\n",
      "- 12:00 PM\n",
      "- 12:30 PM\n",
      "- 01:00 PM\n",
      "- 02:00 PM\n",
      "- 02:30 PM\n",
      "- 03:00 PM\n",
      "- 03:30 PM\n",
      "- 04:00 PM\n",
      "- 04:30 PM\n",
      "\n",
      "Please let me know which time works best for you, and I'll be happy to book your appointment!\n",
      "{'tools': {'messages': [ToolMessage(content=\"Hello! I see you're looking for an orthodontist on September 3, 2024. I have great news for you! Dr. Kevin Anderson is available throughout the day. Here are the time slots you can choose from:\\n\\n- 08:00 AM\\n- 08:30 AM\\n- 11:30 AM\\n- 12:00 PM\\n- 12:30 PM\\n- 01:00 PM\\n- 02:00 PM\\n- 02:30 PM\\n- 03:00 PM\\n- 03:30 PM\\n- 04:00 PM\\n- 04:30 PM\\n\\nPlease let me know which time works best for you, and I'll be happy to book your appointment!\", name='check_availability_by_specialization', tool_call_id='call_Yx7e7s9IO77h4mawDJQtj3Rg')]}}   <class 'langgraph.pregel.io.AddableUpdatesDict'>\n",
      "-----\n",
      "this is state>>>>> {'messages': [HumanMessage(content='', additional_kwargs={}, response_metadata={})]}\n",
      "{'agent': {'messages': [AIMessage(content='Hello! How can I assist you today?', additional_kwargs={'refusal': None}, response_metadata={'token_usage': {'completion_tokens': 10, 'prompt_tokens': 344, 'total_tokens': 354, 'completion_tokens_details': {'reasoning_tokens': 0}}, 'model_name': 'gpt-4o-mini-2024-07-18', 'system_fingerprint': 'fp_f85bea6784', 'finish_reason': 'stop', 'logprobs': None}, id='run-6d50c3e2-5695-41fa-8915-61e9fa7e5ae2-0', usage_metadata={'input_tokens': 344, 'output_tokens': 10, 'total_tokens': 354})]}}   <class 'langgraph.pregel.io.AddableUpdatesDict'>\n",
      "-----\n",
      "{'tools': {'messages': []}}   <class 'langgraph.pregel.io.AddableUpdatesDict'>\n",
      "-----\n",
      ".......... Hello! How can I assist you today?\n"
     ]
    },
    {
     "ename": "InvalidUpdateError",
     "evalue": "Expected dict, got Hello! How can I assist you today?",
     "output_type": "error",
     "traceback": [
      "\u001b[0;31m---------------------------------------------------------------------------\u001b[0m",
      "\u001b[0;31mInvalidUpdateError\u001b[0m                        Traceback (most recent call last)",
      "Cell \u001b[0;32mIn[2], line 8\u001b[0m\n\u001b[1;32m      5\u001b[0m inputs \u001b[38;5;241m=\u001b[39m {\u001b[38;5;124m\"\u001b[39m\u001b[38;5;124mmessages\u001b[39m\u001b[38;5;124m\"\u001b[39m:[HumanMessage(content\u001b[38;5;241m=\u001b[39m\u001b[38;5;28minput\u001b[39m(\u001b[38;5;124m\"\u001b[39m\u001b[38;5;124mUser: \u001b[39m\u001b[38;5;124m\"\u001b[39m)\n\u001b[1;32m      6\u001b[0m )]}\n\u001b[1;32m      7\u001b[0m \u001b[38;5;28;01mif\u001b[39;00m \u001b[38;5;28mstr\u001b[39m\u001b[38;5;241m.\u001b[39mlower(inputs[\u001b[38;5;124m'\u001b[39m\u001b[38;5;124mmessages\u001b[39m\u001b[38;5;124m'\u001b[39m][\u001b[38;5;241m-\u001b[39m\u001b[38;5;241m1\u001b[39m]\u001b[38;5;241m.\u001b[39mcontent) \u001b[38;5;241m!=\u001b[39m \u001b[38;5;124m'\u001b[39m\u001b[38;5;124mq\u001b[39m\u001b[38;5;124m'\u001b[39m:\n\u001b[0;32m----> 8\u001b[0m \u001b[43m    \u001b[49m\u001b[38;5;28;43;01mfor\u001b[39;49;00m\u001b[43m \u001b[49m\u001b[43ms\u001b[49m\u001b[43m \u001b[49m\u001b[38;5;129;43;01min\u001b[39;49;00m\u001b[43m \u001b[49m\u001b[43mgraph\u001b[49m\u001b[38;5;241;43m.\u001b[39;49m\u001b[43mstream\u001b[49m\u001b[43m(\u001b[49m\u001b[43minputs\u001b[49m\u001b[43m)\u001b[49m\u001b[43m:\u001b[49m\n\u001b[1;32m      9\u001b[0m \u001b[43m        \u001b[49m\u001b[38;5;28;43;01mtry\u001b[39;49;00m\u001b[43m:\u001b[49m\n\u001b[1;32m     10\u001b[0m \u001b[43m            \u001b[49m\u001b[38;5;28;43;01mif\u001b[39;49;00m\u001b[43m \u001b[49m\u001b[38;5;124;43m\"\u001b[39;49m\u001b[38;5;124;43m__end__\u001b[39;49m\u001b[38;5;124;43m\"\u001b[39;49m\u001b[43m \u001b[49m\u001b[38;5;129;43;01mnot\u001b[39;49;00m\u001b[43m \u001b[49m\u001b[38;5;129;43;01min\u001b[39;49;00m\u001b[43m \u001b[49m\u001b[43ms\u001b[49m\u001b[43m:\u001b[49m\n",
      "File \u001b[0;32m/Volumes/Ajeet/LLM Projects/LangGraph(KeepMe)/langGEnv/lib/python3.11/site-packages/langgraph/pregel/__init__.py:1290\u001b[0m, in \u001b[0;36mPregel.stream\u001b[0;34m(self, input, config, stream_mode, output_keys, interrupt_before, interrupt_after, debug, subgraphs)\u001b[0m\n\u001b[1;32m   1279\u001b[0m     \u001b[38;5;66;03m# Similarly to Bulk Synchronous Parallel / Pregel model\u001b[39;00m\n\u001b[1;32m   1280\u001b[0m     \u001b[38;5;66;03m# computation proceeds in steps, while there are channel updates\u001b[39;00m\n\u001b[1;32m   1281\u001b[0m     \u001b[38;5;66;03m# channel updates from step N are only visible in step N+1\u001b[39;00m\n\u001b[1;32m   1282\u001b[0m     \u001b[38;5;66;03m# channels are guaranteed to be immutable for the duration of the step,\u001b[39;00m\n\u001b[1;32m   1283\u001b[0m     \u001b[38;5;66;03m# with channel updates applied only at the transition between steps\u001b[39;00m\n\u001b[1;32m   1284\u001b[0m     \u001b[38;5;28;01mwhile\u001b[39;00m loop\u001b[38;5;241m.\u001b[39mtick(\n\u001b[1;32m   1285\u001b[0m         input_keys\u001b[38;5;241m=\u001b[39m\u001b[38;5;28mself\u001b[39m\u001b[38;5;241m.\u001b[39minput_channels,\n\u001b[1;32m   1286\u001b[0m         interrupt_before\u001b[38;5;241m=\u001b[39minterrupt_before_,\n\u001b[1;32m   1287\u001b[0m         interrupt_after\u001b[38;5;241m=\u001b[39minterrupt_after_,\n\u001b[1;32m   1288\u001b[0m         manager\u001b[38;5;241m=\u001b[39mrun_manager,\n\u001b[1;32m   1289\u001b[0m     ):\n\u001b[0;32m-> 1290\u001b[0m \u001b[43m        \u001b[49m\u001b[38;5;28;43;01mfor\u001b[39;49;00m\u001b[43m \u001b[49m\u001b[43m_\u001b[49m\u001b[43m \u001b[49m\u001b[38;5;129;43;01min\u001b[39;49;00m\u001b[43m \u001b[49m\u001b[43mrunner\u001b[49m\u001b[38;5;241;43m.\u001b[39;49m\u001b[43mtick\u001b[49m\u001b[43m(\u001b[49m\n\u001b[1;32m   1291\u001b[0m \u001b[43m            \u001b[49m\u001b[43mloop\u001b[49m\u001b[38;5;241;43m.\u001b[39;49m\u001b[43mtasks\u001b[49m\u001b[38;5;241;43m.\u001b[39;49m\u001b[43mvalues\u001b[49m\u001b[43m(\u001b[49m\u001b[43m)\u001b[49m\u001b[43m,\u001b[49m\n\u001b[1;32m   1292\u001b[0m \u001b[43m            \u001b[49m\u001b[43mtimeout\u001b[49m\u001b[38;5;241;43m=\u001b[39;49m\u001b[38;5;28;43mself\u001b[39;49m\u001b[38;5;241;43m.\u001b[39;49m\u001b[43mstep_timeout\u001b[49m\u001b[43m,\u001b[49m\n\u001b[1;32m   1293\u001b[0m \u001b[43m            \u001b[49m\u001b[43mretry_policy\u001b[49m\u001b[38;5;241;43m=\u001b[39;49m\u001b[38;5;28;43mself\u001b[39;49m\u001b[38;5;241;43m.\u001b[39;49m\u001b[43mretry_policy\u001b[49m\u001b[43m,\u001b[49m\n\u001b[1;32m   1294\u001b[0m \u001b[43m            \u001b[49m\u001b[43mget_waiter\u001b[49m\u001b[38;5;241;43m=\u001b[39;49m\u001b[43mget_waiter\u001b[49m\u001b[43m,\u001b[49m\n\u001b[1;32m   1295\u001b[0m \u001b[43m        \u001b[49m\u001b[43m)\u001b[49m\u001b[43m:\u001b[49m\n\u001b[1;32m   1296\u001b[0m \u001b[43m            \u001b[49m\u001b[38;5;66;43;03m# emit output\u001b[39;49;00m\n\u001b[1;32m   1297\u001b[0m \u001b[43m            \u001b[49m\u001b[38;5;28;43;01myield from\u001b[39;49;00m\u001b[43m \u001b[49m\u001b[43moutput\u001b[49m\u001b[43m(\u001b[49m\u001b[43m)\u001b[49m\n\u001b[1;32m   1298\u001b[0m \u001b[38;5;66;03m# emit output\u001b[39;00m\n",
      "File \u001b[0;32m/Volumes/Ajeet/LLM Projects/LangGraph(KeepMe)/langGEnv/lib/python3.11/site-packages/langgraph/pregel/runner.py:111\u001b[0m, in \u001b[0;36mPregelRunner.tick\u001b[0;34m(self, tasks, reraise, timeout, retry_policy, get_waiter)\u001b[0m\n\u001b[1;32m    109\u001b[0m     \u001b[38;5;28;01myield\u001b[39;00m\n\u001b[1;32m    110\u001b[0m \u001b[38;5;66;03m# panic on failure or timeout\u001b[39;00m\n\u001b[0;32m--> 111\u001b[0m \u001b[43m_panic_or_proceed\u001b[49m\u001b[43m(\u001b[49m\u001b[43mall_futures\u001b[49m\u001b[43m,\u001b[49m\u001b[43m \u001b[49m\u001b[43mpanic\u001b[49m\u001b[38;5;241;43m=\u001b[39;49m\u001b[43mreraise\u001b[49m\u001b[43m)\u001b[49m\n",
      "File \u001b[0;32m/Volumes/Ajeet/LLM Projects/LangGraph(KeepMe)/langGEnv/lib/python3.11/site-packages/langgraph/pregel/runner.py:273\u001b[0m, in \u001b[0;36m_panic_or_proceed\u001b[0;34m(futs, timeout_exc_cls, panic)\u001b[0m\n\u001b[1;32m    271\u001b[0m \u001b[38;5;66;03m# raise the exception\u001b[39;00m\n\u001b[1;32m    272\u001b[0m \u001b[38;5;28;01mif\u001b[39;00m panic:\n\u001b[0;32m--> 273\u001b[0m     \u001b[38;5;28;01mraise\u001b[39;00m exc\n\u001b[1;32m    274\u001b[0m \u001b[38;5;28;01melse\u001b[39;00m:\n\u001b[1;32m    275\u001b[0m     \u001b[38;5;28;01mreturn\u001b[39;00m\n",
      "File \u001b[0;32m/Volumes/Ajeet/LLM Projects/LangGraph(KeepMe)/langGEnv/lib/python3.11/site-packages/langgraph/pregel/executor.py:70\u001b[0m, in \u001b[0;36mBackgroundExecutor.done\u001b[0;34m(self, task)\u001b[0m\n\u001b[1;32m     68\u001b[0m \u001b[38;5;28;01mdef\u001b[39;00m \u001b[38;5;21mdone\u001b[39m(\u001b[38;5;28mself\u001b[39m, task: concurrent\u001b[38;5;241m.\u001b[39mfutures\u001b[38;5;241m.\u001b[39mFuture) \u001b[38;5;241m-\u001b[39m\u001b[38;5;241m>\u001b[39m \u001b[38;5;28;01mNone\u001b[39;00m:\n\u001b[1;32m     69\u001b[0m     \u001b[38;5;28;01mtry\u001b[39;00m:\n\u001b[0;32m---> 70\u001b[0m         \u001b[43mtask\u001b[49m\u001b[38;5;241;43m.\u001b[39;49m\u001b[43mresult\u001b[49m\u001b[43m(\u001b[49m\u001b[43m)\u001b[49m\n\u001b[1;32m     71\u001b[0m     \u001b[38;5;28;01mexcept\u001b[39;00m GraphInterrupt:\n\u001b[1;32m     72\u001b[0m         \u001b[38;5;66;03m# This exception is an interruption signal, not an error\u001b[39;00m\n\u001b[1;32m     73\u001b[0m         \u001b[38;5;66;03m# so we don't want to re-raise it on exit\u001b[39;00m\n\u001b[1;32m     74\u001b[0m         \u001b[38;5;28mself\u001b[39m\u001b[38;5;241m.\u001b[39mtasks\u001b[38;5;241m.\u001b[39mpop(task)\n",
      "File \u001b[0;32m/Volumes/Ajeet/LLM Projects/LangGraph(KeepMe)/langGEnv/lib/python3.11/concurrent/futures/_base.py:449\u001b[0m, in \u001b[0;36mFuture.result\u001b[0;34m(self, timeout)\u001b[0m\n\u001b[1;32m    447\u001b[0m     \u001b[38;5;28;01mraise\u001b[39;00m CancelledError()\n\u001b[1;32m    448\u001b[0m \u001b[38;5;28;01melif\u001b[39;00m \u001b[38;5;28mself\u001b[39m\u001b[38;5;241m.\u001b[39m_state \u001b[38;5;241m==\u001b[39m FINISHED:\n\u001b[0;32m--> 449\u001b[0m     \u001b[38;5;28;01mreturn\u001b[39;00m \u001b[38;5;28;43mself\u001b[39;49m\u001b[38;5;241;43m.\u001b[39;49m\u001b[43m__get_result\u001b[49m\u001b[43m(\u001b[49m\u001b[43m)\u001b[49m\n\u001b[1;32m    451\u001b[0m \u001b[38;5;28mself\u001b[39m\u001b[38;5;241m.\u001b[39m_condition\u001b[38;5;241m.\u001b[39mwait(timeout)\n\u001b[1;32m    453\u001b[0m \u001b[38;5;28;01mif\u001b[39;00m \u001b[38;5;28mself\u001b[39m\u001b[38;5;241m.\u001b[39m_state \u001b[38;5;129;01min\u001b[39;00m [CANCELLED, CANCELLED_AND_NOTIFIED]:\n",
      "File \u001b[0;32m/Volumes/Ajeet/LLM Projects/LangGraph(KeepMe)/langGEnv/lib/python3.11/concurrent/futures/_base.py:401\u001b[0m, in \u001b[0;36mFuture.__get_result\u001b[0;34m(self)\u001b[0m\n\u001b[1;32m    399\u001b[0m \u001b[38;5;28;01mif\u001b[39;00m \u001b[38;5;28mself\u001b[39m\u001b[38;5;241m.\u001b[39m_exception:\n\u001b[1;32m    400\u001b[0m     \u001b[38;5;28;01mtry\u001b[39;00m:\n\u001b[0;32m--> 401\u001b[0m         \u001b[38;5;28;01mraise\u001b[39;00m \u001b[38;5;28mself\u001b[39m\u001b[38;5;241m.\u001b[39m_exception\n\u001b[1;32m    402\u001b[0m     \u001b[38;5;28;01mfinally\u001b[39;00m:\n\u001b[1;32m    403\u001b[0m         \u001b[38;5;66;03m# Break a reference cycle with the exception in self._exception\u001b[39;00m\n\u001b[1;32m    404\u001b[0m         \u001b[38;5;28mself\u001b[39m \u001b[38;5;241m=\u001b[39m \u001b[38;5;28;01mNone\u001b[39;00m\n",
      "File \u001b[0;32m/Volumes/Ajeet/LLM Projects/LangGraph(KeepMe)/langGEnv/lib/python3.11/concurrent/futures/thread.py:58\u001b[0m, in \u001b[0;36m_WorkItem.run\u001b[0;34m(self)\u001b[0m\n\u001b[1;32m     55\u001b[0m     \u001b[38;5;28;01mreturn\u001b[39;00m\n\u001b[1;32m     57\u001b[0m \u001b[38;5;28;01mtry\u001b[39;00m:\n\u001b[0;32m---> 58\u001b[0m     result \u001b[38;5;241m=\u001b[39m \u001b[38;5;28;43mself\u001b[39;49m\u001b[38;5;241;43m.\u001b[39;49m\u001b[43mfn\u001b[49m\u001b[43m(\u001b[49m\u001b[38;5;241;43m*\u001b[39;49m\u001b[38;5;28;43mself\u001b[39;49m\u001b[38;5;241;43m.\u001b[39;49m\u001b[43margs\u001b[49m\u001b[43m,\u001b[49m\u001b[43m \u001b[49m\u001b[38;5;241;43m*\u001b[39;49m\u001b[38;5;241;43m*\u001b[39;49m\u001b[38;5;28;43mself\u001b[39;49m\u001b[38;5;241;43m.\u001b[39;49m\u001b[43mkwargs\u001b[49m\u001b[43m)\u001b[49m\n\u001b[1;32m     59\u001b[0m \u001b[38;5;28;01mexcept\u001b[39;00m \u001b[38;5;167;01mBaseException\u001b[39;00m \u001b[38;5;28;01mas\u001b[39;00m exc:\n\u001b[1;32m     60\u001b[0m     \u001b[38;5;28mself\u001b[39m\u001b[38;5;241m.\u001b[39mfuture\u001b[38;5;241m.\u001b[39mset_exception(exc)\n",
      "File \u001b[0;32m/Volumes/Ajeet/LLM Projects/LangGraph(KeepMe)/langGEnv/lib/python3.11/site-packages/langgraph/pregel/retry.py:29\u001b[0m, in \u001b[0;36mrun_with_retry\u001b[0;34m(task, retry_policy)\u001b[0m\n\u001b[1;32m     27\u001b[0m task\u001b[38;5;241m.\u001b[39mwrites\u001b[38;5;241m.\u001b[39mclear()\n\u001b[1;32m     28\u001b[0m \u001b[38;5;66;03m# run the task\u001b[39;00m\n\u001b[0;32m---> 29\u001b[0m \u001b[43mtask\u001b[49m\u001b[38;5;241;43m.\u001b[39;49m\u001b[43mproc\u001b[49m\u001b[38;5;241;43m.\u001b[39;49m\u001b[43minvoke\u001b[49m\u001b[43m(\u001b[49m\u001b[43mtask\u001b[49m\u001b[38;5;241;43m.\u001b[39;49m\u001b[43minput\u001b[49m\u001b[43m,\u001b[49m\u001b[43m \u001b[49m\u001b[43mconfig\u001b[49m\u001b[43m)\u001b[49m\n\u001b[1;32m     30\u001b[0m \u001b[38;5;66;03m# if successful, end\u001b[39;00m\n\u001b[1;32m     31\u001b[0m \u001b[38;5;28;01mbreak\u001b[39;00m\n",
      "File \u001b[0;32m/Volumes/Ajeet/LLM Projects/LangGraph(KeepMe)/langGEnv/lib/python3.11/site-packages/langgraph/utils/runnable.py:387\u001b[0m, in \u001b[0;36mRunnableSeq.invoke\u001b[0;34m(self, input, config, **kwargs)\u001b[0m\n\u001b[1;32m    385\u001b[0m             \u001b[38;5;28minput\u001b[39m \u001b[38;5;241m=\u001b[39m context\u001b[38;5;241m.\u001b[39mrun(step\u001b[38;5;241m.\u001b[39minvoke, \u001b[38;5;28minput\u001b[39m, config, \u001b[38;5;241m*\u001b[39m\u001b[38;5;241m*\u001b[39mkwargs)\n\u001b[1;32m    386\u001b[0m         \u001b[38;5;28;01melse\u001b[39;00m:\n\u001b[0;32m--> 387\u001b[0m             \u001b[38;5;28minput\u001b[39m \u001b[38;5;241m=\u001b[39m context\u001b[38;5;241m.\u001b[39mrun(step\u001b[38;5;241m.\u001b[39minvoke, \u001b[38;5;28minput\u001b[39m, config)\n\u001b[1;32m    388\u001b[0m \u001b[38;5;66;03m# finish the root run\u001b[39;00m\n\u001b[1;32m    389\u001b[0m \u001b[38;5;28;01mexcept\u001b[39;00m \u001b[38;5;167;01mBaseException\u001b[39;00m \u001b[38;5;28;01mas\u001b[39;00m e:\n",
      "File \u001b[0;32m/Volumes/Ajeet/LLM Projects/LangGraph(KeepMe)/langGEnv/lib/python3.11/site-packages/langgraph/utils/runnable.py:159\u001b[0m, in \u001b[0;36mRunnableCallable.invoke\u001b[0;34m(self, input, config, **kwargs)\u001b[0m\n\u001b[1;32m    157\u001b[0m     context \u001b[38;5;241m=\u001b[39m copy_context()\n\u001b[1;32m    158\u001b[0m     context\u001b[38;5;241m.\u001b[39mrun(_set_config_context, child_config)\n\u001b[0;32m--> 159\u001b[0m     ret \u001b[38;5;241m=\u001b[39m \u001b[43mcontext\u001b[49m\u001b[38;5;241;43m.\u001b[39;49m\u001b[43mrun\u001b[49m\u001b[43m(\u001b[49m\u001b[38;5;28;43mself\u001b[39;49m\u001b[38;5;241;43m.\u001b[39;49m\u001b[43mfunc\u001b[49m\u001b[43m,\u001b[49m\u001b[43m \u001b[49m\u001b[38;5;28;43minput\u001b[39;49m\u001b[43m,\u001b[49m\u001b[43m \u001b[49m\u001b[38;5;241;43m*\u001b[39;49m\u001b[38;5;241;43m*\u001b[39;49m\u001b[43mkwargs\u001b[49m\u001b[43m)\u001b[49m\n\u001b[1;32m    160\u001b[0m \u001b[38;5;28;01mexcept\u001b[39;00m \u001b[38;5;167;01mBaseException\u001b[39;00m \u001b[38;5;28;01mas\u001b[39;00m e:\n\u001b[1;32m    161\u001b[0m     run_manager\u001b[38;5;241m.\u001b[39mon_chain_error(e)\n",
      "File \u001b[0;32m/Volumes/Ajeet/LLM Projects/LangGraph(KeepMe)/langGEnv/lib/python3.11/site-packages/langgraph/pregel/write.py:85\u001b[0m, in \u001b[0;36mChannelWrite._write\u001b[0;34m(self, input, config)\u001b[0m\n\u001b[1;32m     78\u001b[0m \u001b[38;5;28;01mdef\u001b[39;00m \u001b[38;5;21m_write\u001b[39m(\u001b[38;5;28mself\u001b[39m, \u001b[38;5;28minput\u001b[39m: Any, config: RunnableConfig) \u001b[38;5;241m-\u001b[39m\u001b[38;5;241m>\u001b[39m \u001b[38;5;28;01mNone\u001b[39;00m:\n\u001b[1;32m     79\u001b[0m     writes \u001b[38;5;241m=\u001b[39m [\n\u001b[1;32m     80\u001b[0m         ChannelWriteEntry(write\u001b[38;5;241m.\u001b[39mchannel, \u001b[38;5;28minput\u001b[39m, write\u001b[38;5;241m.\u001b[39mskip_none, write\u001b[38;5;241m.\u001b[39mmapper)\n\u001b[1;32m     81\u001b[0m         \u001b[38;5;28;01mif\u001b[39;00m \u001b[38;5;28misinstance\u001b[39m(write, ChannelWriteEntry) \u001b[38;5;129;01mand\u001b[39;00m write\u001b[38;5;241m.\u001b[39mvalue \u001b[38;5;129;01mis\u001b[39;00m PASSTHROUGH\n\u001b[1;32m     82\u001b[0m         \u001b[38;5;28;01melse\u001b[39;00m write\n\u001b[1;32m     83\u001b[0m         \u001b[38;5;28;01mfor\u001b[39;00m write \u001b[38;5;129;01min\u001b[39;00m \u001b[38;5;28mself\u001b[39m\u001b[38;5;241m.\u001b[39mwrites\n\u001b[1;32m     84\u001b[0m     ]\n\u001b[0;32m---> 85\u001b[0m     \u001b[38;5;28;43mself\u001b[39;49m\u001b[38;5;241;43m.\u001b[39;49m\u001b[43mdo_write\u001b[49m\u001b[43m(\u001b[49m\n\u001b[1;32m     86\u001b[0m \u001b[43m        \u001b[49m\u001b[43mconfig\u001b[49m\u001b[43m,\u001b[49m\n\u001b[1;32m     87\u001b[0m \u001b[43m        \u001b[49m\u001b[43mwrites\u001b[49m\u001b[43m,\u001b[49m\n\u001b[1;32m     88\u001b[0m \u001b[43m        \u001b[49m\u001b[38;5;28;43mself\u001b[39;49m\u001b[38;5;241;43m.\u001b[39;49m\u001b[43mrequire_at_least_one_of\u001b[49m\u001b[43m \u001b[49m\u001b[38;5;28;43;01mif\u001b[39;49;00m\u001b[43m \u001b[49m\u001b[38;5;28;43minput\u001b[39;49m\u001b[43m \u001b[49m\u001b[38;5;129;43;01mis\u001b[39;49;00m\u001b[43m \u001b[49m\u001b[38;5;129;43;01mnot\u001b[39;49;00m\u001b[43m \u001b[49m\u001b[38;5;28;43;01mNone\u001b[39;49;00m\u001b[43m \u001b[49m\u001b[38;5;28;43;01melse\u001b[39;49;00m\u001b[43m \u001b[49m\u001b[38;5;28;43;01mNone\u001b[39;49;00m\u001b[43m,\u001b[49m\n\u001b[1;32m     89\u001b[0m \u001b[43m    \u001b[49m\u001b[43m)\u001b[49m\n\u001b[1;32m     90\u001b[0m     \u001b[38;5;28;01mreturn\u001b[39;00m \u001b[38;5;28minput\u001b[39m\n",
      "File \u001b[0;32m/Volumes/Ajeet/LLM Projects/LangGraph(KeepMe)/langGEnv/lib/python3.11/site-packages/langgraph/pregel/write.py:125\u001b[0m, in \u001b[0;36mChannelWrite.do_write\u001b[0;34m(config, writes, require_at_least_one_of)\u001b[0m\n\u001b[1;32m    123\u001b[0m entries \u001b[38;5;241m=\u001b[39m [write \u001b[38;5;28;01mfor\u001b[39;00m write \u001b[38;5;129;01min\u001b[39;00m writes \u001b[38;5;28;01mif\u001b[39;00m \u001b[38;5;28misinstance\u001b[39m(write, ChannelWriteEntry)]\n\u001b[1;32m    124\u001b[0m \u001b[38;5;66;03m# process entries into values\u001b[39;00m\n\u001b[0;32m--> 125\u001b[0m values \u001b[38;5;241m=\u001b[39m \u001b[43m[\u001b[49m\n\u001b[1;32m    126\u001b[0m \u001b[43m    \u001b[49m\u001b[43mwrite\u001b[49m\u001b[38;5;241;43m.\u001b[39;49m\u001b[43mmapper\u001b[49m\u001b[43m(\u001b[49m\u001b[43mwrite\u001b[49m\u001b[38;5;241;43m.\u001b[39;49m\u001b[43mvalue\u001b[49m\u001b[43m)\u001b[49m\u001b[43m \u001b[49m\u001b[38;5;28;43;01mif\u001b[39;49;00m\u001b[43m \u001b[49m\u001b[43mwrite\u001b[49m\u001b[38;5;241;43m.\u001b[39;49m\u001b[43mmapper\u001b[49m\u001b[43m \u001b[49m\u001b[38;5;129;43;01mis\u001b[39;49;00m\u001b[43m \u001b[49m\u001b[38;5;129;43;01mnot\u001b[39;49;00m\u001b[43m \u001b[49m\u001b[38;5;28;43;01mNone\u001b[39;49;00m\u001b[43m \u001b[49m\u001b[38;5;28;43;01melse\u001b[39;49;00m\u001b[43m \u001b[49m\u001b[43mwrite\u001b[49m\u001b[38;5;241;43m.\u001b[39;49m\u001b[43mvalue\u001b[49m\n\u001b[1;32m    127\u001b[0m \u001b[43m    \u001b[49m\u001b[38;5;28;43;01mfor\u001b[39;49;00m\u001b[43m \u001b[49m\u001b[43mwrite\u001b[49m\u001b[43m \u001b[49m\u001b[38;5;129;43;01min\u001b[39;49;00m\u001b[43m \u001b[49m\u001b[43mentries\u001b[49m\n\u001b[1;32m    128\u001b[0m \u001b[43m\u001b[49m\u001b[43m]\u001b[49m\n\u001b[1;32m    129\u001b[0m values \u001b[38;5;241m=\u001b[39m [\n\u001b[1;32m    130\u001b[0m     (write\u001b[38;5;241m.\u001b[39mchannel, val)\n\u001b[1;32m    131\u001b[0m     \u001b[38;5;28;01mfor\u001b[39;00m val, write \u001b[38;5;129;01min\u001b[39;00m \u001b[38;5;28mzip\u001b[39m(values, entries)\n\u001b[1;32m    132\u001b[0m     \u001b[38;5;28;01mif\u001b[39;00m \u001b[38;5;129;01mnot\u001b[39;00m write\u001b[38;5;241m.\u001b[39mskip_none \u001b[38;5;129;01mor\u001b[39;00m val \u001b[38;5;129;01mis\u001b[39;00m \u001b[38;5;129;01mnot\u001b[39;00m \u001b[38;5;28;01mNone\u001b[39;00m\n\u001b[1;32m    133\u001b[0m ]\n\u001b[1;32m    134\u001b[0m \u001b[38;5;66;03m# filter out SKIP_WRITE values\u001b[39;00m\n",
      "File \u001b[0;32m/Volumes/Ajeet/LLM Projects/LangGraph(KeepMe)/langGEnv/lib/python3.11/site-packages/langgraph/pregel/write.py:126\u001b[0m, in \u001b[0;36m<listcomp>\u001b[0;34m(.0)\u001b[0m\n\u001b[1;32m    123\u001b[0m entries \u001b[38;5;241m=\u001b[39m [write \u001b[38;5;28;01mfor\u001b[39;00m write \u001b[38;5;129;01min\u001b[39;00m writes \u001b[38;5;28;01mif\u001b[39;00m \u001b[38;5;28misinstance\u001b[39m(write, ChannelWriteEntry)]\n\u001b[1;32m    124\u001b[0m \u001b[38;5;66;03m# process entries into values\u001b[39;00m\n\u001b[1;32m    125\u001b[0m values \u001b[38;5;241m=\u001b[39m [\n\u001b[0;32m--> 126\u001b[0m     \u001b[43mwrite\u001b[49m\u001b[38;5;241;43m.\u001b[39;49m\u001b[43mmapper\u001b[49m\u001b[43m(\u001b[49m\u001b[43mwrite\u001b[49m\u001b[38;5;241;43m.\u001b[39;49m\u001b[43mvalue\u001b[49m\u001b[43m)\u001b[49m \u001b[38;5;28;01mif\u001b[39;00m write\u001b[38;5;241m.\u001b[39mmapper \u001b[38;5;129;01mis\u001b[39;00m \u001b[38;5;129;01mnot\u001b[39;00m \u001b[38;5;28;01mNone\u001b[39;00m \u001b[38;5;28;01melse\u001b[39;00m write\u001b[38;5;241m.\u001b[39mvalue\n\u001b[1;32m    127\u001b[0m     \u001b[38;5;28;01mfor\u001b[39;00m write \u001b[38;5;129;01min\u001b[39;00m entries\n\u001b[1;32m    128\u001b[0m ]\n\u001b[1;32m    129\u001b[0m values \u001b[38;5;241m=\u001b[39m [\n\u001b[1;32m    130\u001b[0m     (write\u001b[38;5;241m.\u001b[39mchannel, val)\n\u001b[1;32m    131\u001b[0m     \u001b[38;5;28;01mfor\u001b[39;00m val, write \u001b[38;5;129;01min\u001b[39;00m \u001b[38;5;28mzip\u001b[39m(values, entries)\n\u001b[1;32m    132\u001b[0m     \u001b[38;5;28;01mif\u001b[39;00m \u001b[38;5;129;01mnot\u001b[39;00m write\u001b[38;5;241m.\u001b[39mskip_none \u001b[38;5;129;01mor\u001b[39;00m val \u001b[38;5;129;01mis\u001b[39;00m \u001b[38;5;129;01mnot\u001b[39;00m \u001b[38;5;28;01mNone\u001b[39;00m\n\u001b[1;32m    133\u001b[0m ]\n\u001b[1;32m    134\u001b[0m \u001b[38;5;66;03m# filter out SKIP_WRITE values\u001b[39;00m\n",
      "File \u001b[0;32m/Volumes/Ajeet/LLM Projects/LangGraph(KeepMe)/langGEnv/lib/python3.11/site-packages/langgraph/graph/state.py:541\u001b[0m, in \u001b[0;36mCompiledStateGraph.attach_node.<locals>._get_state_key\u001b[0;34m(input, key)\u001b[0m\n\u001b[1;32m    539\u001b[0m     \u001b[38;5;28;01mreturn\u001b[39;00m value \u001b[38;5;28;01mif\u001b[39;00m value \u001b[38;5;129;01mis\u001b[39;00m \u001b[38;5;129;01mnot\u001b[39;00m \u001b[38;5;28;01mNone\u001b[39;00m \u001b[38;5;28;01melse\u001b[39;00m SKIP_WRITE\n\u001b[1;32m    540\u001b[0m \u001b[38;5;28;01melse\u001b[39;00m:\n\u001b[0;32m--> 541\u001b[0m     \u001b[38;5;28;01mraise\u001b[39;00m InvalidUpdateError(\u001b[38;5;124mf\u001b[39m\u001b[38;5;124m\"\u001b[39m\u001b[38;5;124mExpected dict, got \u001b[39m\u001b[38;5;132;01m{\u001b[39;00m\u001b[38;5;28minput\u001b[39m\u001b[38;5;132;01m}\u001b[39;00m\u001b[38;5;124m\"\u001b[39m)\n",
      "\u001b[0;31mInvalidUpdateError\u001b[0m: Expected dict, got Hello! How can I assist you today?"
     ]
    }
   ],
   "source": [
    "user_input = \"i want to book an appointment for Kevin anderson available at 2024-09-03 for 11 :30?  \"\n",
    "from Agent.agent_take2 import *\n",
    "\n",
    "while True:\n",
    "    inputs = {\"messages\":[HumanMessage(content=user_input)\n",
    "    )]}\n",
    "    if str.lower(inputs['messages'][-1].content) != 'q':\n",
    "        for s in graph.stream(inputs):\n",
    "            try:\n",
    "                if \"__end__\" not in s:\n",
    "                    print(s,\" \", type(s))\n",
    "                    print(\"-----\")\n",
    "                else:\n",
    "                    print(s['tools']['messages'])\n",
    "            except:\n",
    "                print(\"error\")\n",
    "    else:\n",
    "        break"
   ]
  },
  {
   "cell_type": "code",
   "execution_count": 2,
   "metadata": {},
   "outputs": [
    {
     "name": "stdout",
     "output_type": "stream",
     "text": [
      "desired date is: 2024-09-03T11:30:00\n",
      "kevin anderson for 2024-09-03,11:30:00\n",
      "\n",
      "\n",
      "\n",
      "\n"
     ]
    },
    {
     "data": {
      "text/html": [
       "<div>\n",
       "<style scoped>\n",
       "    .dataframe tbody tr th:only-of-type {\n",
       "        vertical-align: middle;\n",
       "    }\n",
       "\n",
       "    .dataframe tbody tr th {\n",
       "        vertical-align: top;\n",
       "    }\n",
       "\n",
       "    .dataframe thead th {\n",
       "        text-align: right;\n",
       "    }\n",
       "</style>\n",
       "<table border=\"1\" class=\"dataframe\">\n",
       "  <thead>\n",
       "    <tr style=\"text-align: right;\">\n",
       "      <th></th>\n",
       "      <th>date_slot</th>\n",
       "      <th>specialization</th>\n",
       "      <th>doctor_name</th>\n",
       "      <th>is_available</th>\n",
       "      <th>patient_to_attend</th>\n",
       "    </tr>\n",
       "  </thead>\n",
       "  <tbody>\n",
       "  </tbody>\n",
       "</table>\n",
       "</div>"
      ],
      "text/plain": [
       "Empty DataFrame\n",
       "Columns: [date_slot, specialization, doctor_name, is_available, patient_to_attend]\n",
       "Index: []"
      ]
     },
     "execution_count": 2,
     "metadata": {},
     "output_type": "execute_result"
    }
   ],
   "source": [
    "from Tools.booking import *\n",
    "ava, spec = book_appointment( doctor_name='kevin anderson', desired_time= \"2024-09-03T11:30:00\",specialization = \"orthodontist\")\n",
    "ava"
   ]
  },
  {
   "cell_type": "code",
   "execution_count": null,
   "metadata": {},
   "outputs": [],
   "source": []
  },
  {
   "cell_type": "code",
   "execution_count": 2,
   "metadata": {},
   "outputs": [
    {
     "data": {
      "text/html": [
       "<div>\n",
       "<style scoped>\n",
       "    .dataframe tbody tr th:only-of-type {\n",
       "        vertical-align: middle;\n",
       "    }\n",
       "\n",
       "    .dataframe tbody tr th {\n",
       "        vertical-align: top;\n",
       "    }\n",
       "\n",
       "    .dataframe thead th {\n",
       "        text-align: right;\n",
       "    }\n",
       "</style>\n",
       "<table border=\"1\" class=\"dataframe\">\n",
       "  <thead>\n",
       "    <tr style=\"text-align: right;\">\n",
       "      <th></th>\n",
       "      <th>date_slot</th>\n",
       "      <th>specialization</th>\n",
       "      <th>doctor_name</th>\n",
       "      <th>is_available</th>\n",
       "      <th>patient_to_attend</th>\n",
       "    </tr>\n",
       "  </thead>\n",
       "  <tbody>\n",
       "  </tbody>\n",
       "</table>\n",
       "</div>"
      ],
      "text/plain": [
       "Empty DataFrame\n",
       "Columns: [date_slot, specialization, doctor_name, is_available, patient_to_attend]\n",
       "Index: []"
      ]
     },
     "execution_count": 2,
     "metadata": {},
     "output_type": "execute_result"
    }
   ],
   "source": [
    "ava"
   ]
  },
  {
   "cell_type": "code",
   "execution_count": 3,
   "metadata": {},
   "outputs": [
    {
     "data": {
      "text/html": [
       "<div>\n",
       "<style scoped>\n",
       "    .dataframe tbody tr th:only-of-type {\n",
       "        vertical-align: middle;\n",
       "    }\n",
       "\n",
       "    .dataframe tbody tr th {\n",
       "        vertical-align: top;\n",
       "    }\n",
       "\n",
       "    .dataframe thead th {\n",
       "        text-align: right;\n",
       "    }\n",
       "</style>\n",
       "<table border=\"1\" class=\"dataframe\">\n",
       "  <thead>\n",
       "    <tr style=\"text-align: right;\">\n",
       "      <th></th>\n",
       "      <th>date_slot</th>\n",
       "      <th>specialization</th>\n",
       "      <th>doctor_name</th>\n",
       "    </tr>\n",
       "  </thead>\n",
       "  <tbody>\n",
       "    <tr>\n",
       "      <th>0</th>\n",
       "      <td>2024-09-03 08:00</td>\n",
       "      <td>orthodontist</td>\n",
       "      <td>kevin anderson</td>\n",
       "    </tr>\n",
       "    <tr>\n",
       "      <th>1</th>\n",
       "      <td>2024-09-03 08:30</td>\n",
       "      <td>orthodontist</td>\n",
       "      <td>kevin anderson</td>\n",
       "    </tr>\n",
       "    <tr>\n",
       "      <th>2</th>\n",
       "      <td>2024-09-03 11:30</td>\n",
       "      <td>orthodontist</td>\n",
       "      <td>kevin anderson</td>\n",
       "    </tr>\n",
       "    <tr>\n",
       "      <th>3</th>\n",
       "      <td>2024-09-03 12:00</td>\n",
       "      <td>orthodontist</td>\n",
       "      <td>kevin anderson</td>\n",
       "    </tr>\n",
       "    <tr>\n",
       "      <th>4</th>\n",
       "      <td>2024-09-03 12:30</td>\n",
       "      <td>orthodontist</td>\n",
       "      <td>kevin anderson</td>\n",
       "    </tr>\n",
       "    <tr>\n",
       "      <th>5</th>\n",
       "      <td>2024-09-03 13:00</td>\n",
       "      <td>orthodontist</td>\n",
       "      <td>kevin anderson</td>\n",
       "    </tr>\n",
       "    <tr>\n",
       "      <th>6</th>\n",
       "      <td>2024-09-03 14:00</td>\n",
       "      <td>orthodontist</td>\n",
       "      <td>kevin anderson</td>\n",
       "    </tr>\n",
       "    <tr>\n",
       "      <th>7</th>\n",
       "      <td>2024-09-03 14:30</td>\n",
       "      <td>orthodontist</td>\n",
       "      <td>kevin anderson</td>\n",
       "    </tr>\n",
       "    <tr>\n",
       "      <th>8</th>\n",
       "      <td>2024-09-03 15:00</td>\n",
       "      <td>orthodontist</td>\n",
       "      <td>kevin anderson</td>\n",
       "    </tr>\n",
       "    <tr>\n",
       "      <th>9</th>\n",
       "      <td>2024-09-03 15:30</td>\n",
       "      <td>orthodontist</td>\n",
       "      <td>kevin anderson</td>\n",
       "    </tr>\n",
       "    <tr>\n",
       "      <th>10</th>\n",
       "      <td>2024-09-03 16:00</td>\n",
       "      <td>orthodontist</td>\n",
       "      <td>kevin anderson</td>\n",
       "    </tr>\n",
       "    <tr>\n",
       "      <th>11</th>\n",
       "      <td>2024-09-03 16:30</td>\n",
       "      <td>orthodontist</td>\n",
       "      <td>kevin anderson</td>\n",
       "    </tr>\n",
       "  </tbody>\n",
       "</table>\n",
       "</div>"
      ],
      "text/plain": [
       "           date_slot specialization     doctor_name\n",
       "0   2024-09-03 08:00   orthodontist  kevin anderson\n",
       "1   2024-09-03 08:30   orthodontist  kevin anderson\n",
       "2   2024-09-03 11:30   orthodontist  kevin anderson\n",
       "3   2024-09-03 12:00   orthodontist  kevin anderson\n",
       "4   2024-09-03 12:30   orthodontist  kevin anderson\n",
       "5   2024-09-03 13:00   orthodontist  kevin anderson\n",
       "6   2024-09-03 14:00   orthodontist  kevin anderson\n",
       "7   2024-09-03 14:30   orthodontist  kevin anderson\n",
       "8   2024-09-03 15:00   orthodontist  kevin anderson\n",
       "9   2024-09-03 15:30   orthodontist  kevin anderson\n",
       "10  2024-09-03 16:00   orthodontist  kevin anderson\n",
       "11  2024-09-03 16:30   orthodontist  kevin anderson"
      ]
     },
     "execution_count": 3,
     "metadata": {},
     "output_type": "execute_result"
    }
   ],
   "source": [
    "spec"
   ]
  },
  {
   "cell_type": "code",
   "execution_count": 12,
   "metadata": {},
   "outputs": [
    {
     "name": "stderr",
     "output_type": "stream",
     "text": [
      "/var/folders/n8/zp_8cq8s4418zg3_64l36h780000gn/T/ipykernel_41859/2547323304.py:1: DeprecationWarning: DataFrameGroupBy.apply operated on the grouping columns. This behavior is deprecated, and in a future version of pandas the grouping columns will be excluded from the operation. Either pass `include_groups=False` to exclude the groupings or explicitly select the grouping columns after groupby to silence this warning.\n",
      "  text = spec.groupby(['specialization', \"doctor_name\"]).apply(list)\n"
     ]
    }
   ],
   "source": [
    "text = spec.groupby(['specialization', \"doctor_name\"]).apply(list)"
   ]
  },
  {
   "cell_type": "code",
   "execution_count": 13,
   "metadata": {},
   "outputs": [
    {
     "name": "stdout",
     "output_type": "stream",
     "text": [
      "specialization  doctor_name   \n",
      "orthodontist    kevin anderson    [date_slot, specialization, doctor_name]\n",
      "dtype: object\n"
     ]
    }
   ],
   "source": [
    "print(text)"
   ]
  },
  {
   "cell_type": "code",
   "execution_count": null,
   "metadata": {},
   "outputs": [],
   "source": []
  },
  {
   "cell_type": "code",
   "execution_count": 1,
   "metadata": {},
   "outputs": [
    {
     "name": "stdout",
     "output_type": "stream",
     "text": [
      "from if\n",
      "desired date is: 2024-09-03T11:30:09\n",
      "11:30:09\n",
      "No available slots for booking at time2024-09-03T11:30:09. Here are some of the available slots. Which would you like to choose?.\n",
      "              date_slot specialization     doctor_name\n",
      "4262  2024-09-03 08:00   orthodontist  kevin anderson\n",
      "4263  2024-09-03 08:30   orthodontist  kevin anderson\n",
      "4269  2024-09-03 11:30   orthodontist  kevin anderson\n",
      "4270  2024-09-03 12:00   orthodontist  kevin anderson\n",
      "4271  2024-09-03 12:30   orthodontist  kevin anderson\n",
      "4272  2024-09-03 13:00   orthodontist  kevin anderson\n",
      "4274  2024-09-03 14:00   orthodontist  kevin anderson\n",
      "4275  2024-09-03 14:30   orthodontist  kevin anderson\n",
      "4276  2024-09-03 15:00   orthodontist  kevin anderson\n",
      "4277  2024-09-03 15:30   orthodontist  kevin anderson\n",
      "4278  2024-09-03 16:00   orthodontist  kevin anderson\n",
      "4279  2024-09-03 16:30   orthodontist  kevin anderson\n"
     ]
    }
   ],
   "source": [
    "from Tools.booking import *\n",
    "doctor_name='kevin anderson'\n",
    "desired_date= \"2024-09-03T11:30:09\"\n",
    "specialization = \"orthodontist\"\n",
    "ava = book_appointment(patient_id=\"Ajeet12s3\",patient_name=\"Ajeet Acharya\",desired_date=desired_date, doctor_name=doctor_name)\n",
    "print(ava)"
   ]
  },
  {
   "cell_type": "code",
   "execution_count": 2,
   "metadata": {},
   "outputs": [
    {
     "name": "stdout",
     "output_type": "stream",
     "text": [
      "No available slots for booking at time2024-09-03T11:30:09. Here are some of the available slots. Which would you like to choose?.\n",
      "              date_slot specialization     doctor_name\n",
      "4262  2024-09-03 08:00   orthodontist  kevin anderson\n",
      "4263  2024-09-03 08:30   orthodontist  kevin anderson\n",
      "4269  2024-09-03 11:30   orthodontist  kevin anderson\n",
      "4270  2024-09-03 12:00   orthodontist  kevin anderson\n",
      "4271  2024-09-03 12:30   orthodontist  kevin anderson\n",
      "4272  2024-09-03 13:00   orthodontist  kevin anderson\n",
      "4274  2024-09-03 14:00   orthodontist  kevin anderson\n",
      "4275  2024-09-03 14:30   orthodontist  kevin anderson\n",
      "4276  2024-09-03 15:00   orthodontist  kevin anderson\n",
      "4277  2024-09-03 15:30   orthodontist  kevin anderson\n",
      "4278  2024-09-03 16:00   orthodontist  kevin anderson\n",
      "4279  2024-09-03 16:30   orthodontist  kevin anderson\n"
     ]
    }
   ],
   "source": [
    "print(ava)"
   ]
  },
  {
   "cell_type": "code",
   "execution_count": 42,
   "metadata": {},
   "outputs": [],
   "source": [
    "date_id = ava.index[0]\n",
    "date_slot = ava['date_slot'].iloc[0]\n",
    "doctor_name = ava['doctor_name'].iloc[0]\n",
    "specialization = ava['specialization'].iloc[0]\n"
   ]
  },
  {
   "cell_type": "code",
   "execution_count": 44,
   "metadata": {},
   "outputs": [
    {
     "name": "stdout",
     "output_type": "stream",
     "text": [
      "4269 2024-09-03 11:30 kevin anderson orthodontist\n"
     ]
    }
   ],
   "source": [
    "print(date_id, date_slot, doctor_name, specialization)"
   ]
  },
  {
   "cell_type": "code",
   "execution_count": 15,
   "metadata": {},
   "outputs": [
    {
     "ename": "TypeError",
     "evalue": "availability_by_doctor() missing 2 required positional arguments: 'desired_date' and 'doctor_name'",
     "output_type": "error",
     "traceback": [
      "\u001b[0;31m---------------------------------------------------------------------------\u001b[0m",
      "\u001b[0;31mTypeError\u001b[0m                                 Traceback (most recent call last)",
      "Cell \u001b[0;32mIn[15], line 4\u001b[0m\n\u001b[1;32m      2\u001b[0m desired_time\u001b[38;5;241m=\u001b[39m \u001b[38;5;124m\"\u001b[39m\u001b[38;5;124m2024-09-03T11:30:00\u001b[39m\u001b[38;5;124m\"\u001b[39m\n\u001b[1;32m      3\u001b[0m specialization \u001b[38;5;241m=\u001b[39m \u001b[38;5;124m\"\u001b[39m\u001b[38;5;124morthodontist\u001b[39m\u001b[38;5;124m\"\u001b[39m\n\u001b[0;32m----> 4\u001b[0m ava \u001b[38;5;241m=\u001b[39m \u001b[43mavailability_by_doctor\u001b[49m\u001b[43m(\u001b[49m\u001b[43m)\u001b[49m\n",
      "\u001b[0;31mTypeError\u001b[0m: availability_by_doctor() missing 2 required positional arguments: 'desired_date' and 'doctor_name'"
     ]
    }
   ],
   "source": [
    "doctor_name='kevin anderson'\n",
    "desired_time= \"2024-09-03T11:30:00\"\n",
    "specialization = \"orthodontist\"\n",
    "ava = availability_by_doctor()\n",
    "\n"
   ]
  },
  {
   "cell_type": "code",
   "execution_count": 9,
   "metadata": {},
   "outputs": [
    {
     "data": {
      "text/html": [
       "<div>\n",
       "<style scoped>\n",
       "    .dataframe tbody tr th:only-of-type {\n",
       "        vertical-align: middle;\n",
       "    }\n",
       "\n",
       "    .dataframe tbody tr th {\n",
       "        vertical-align: top;\n",
       "    }\n",
       "\n",
       "    .dataframe thead th {\n",
       "        text-align: right;\n",
       "    }\n",
       "</style>\n",
       "<table border=\"1\" class=\"dataframe\">\n",
       "  <thead>\n",
       "    <tr style=\"text-align: right;\">\n",
       "      <th></th>\n",
       "      <th>date_slot</th>\n",
       "      <th>specialization</th>\n",
       "      <th>doctor_name</th>\n",
       "      <th>is_available</th>\n",
       "      <th>patient_to_attend</th>\n",
       "    </tr>\n",
       "  </thead>\n",
       "  <tbody>\n",
       "    <tr>\n",
       "      <th>4262</th>\n",
       "      <td>2024-09-03 08:00</td>\n",
       "      <td>orthodontist</td>\n",
       "      <td>kevin anderson</td>\n",
       "      <td>True</td>\n",
       "      <td>NaN</td>\n",
       "    </tr>\n",
       "    <tr>\n",
       "      <th>4263</th>\n",
       "      <td>2024-09-03 08:30</td>\n",
       "      <td>orthodontist</td>\n",
       "      <td>kevin anderson</td>\n",
       "      <td>True</td>\n",
       "      <td>NaN</td>\n",
       "    </tr>\n",
       "    <tr>\n",
       "      <th>4269</th>\n",
       "      <td>2024-09-03 11:30</td>\n",
       "      <td>orthodontist</td>\n",
       "      <td>kevin anderson</td>\n",
       "      <td>True</td>\n",
       "      <td>NaN</td>\n",
       "    </tr>\n",
       "    <tr>\n",
       "      <th>4270</th>\n",
       "      <td>2024-09-03 12:00</td>\n",
       "      <td>orthodontist</td>\n",
       "      <td>kevin anderson</td>\n",
       "      <td>True</td>\n",
       "      <td>NaN</td>\n",
       "    </tr>\n",
       "    <tr>\n",
       "      <th>4271</th>\n",
       "      <td>2024-09-03 12:30</td>\n",
       "      <td>orthodontist</td>\n",
       "      <td>kevin anderson</td>\n",
       "      <td>True</td>\n",
       "      <td>NaN</td>\n",
       "    </tr>\n",
       "    <tr>\n",
       "      <th>4272</th>\n",
       "      <td>2024-09-03 13:00</td>\n",
       "      <td>orthodontist</td>\n",
       "      <td>kevin anderson</td>\n",
       "      <td>True</td>\n",
       "      <td>NaN</td>\n",
       "    </tr>\n",
       "    <tr>\n",
       "      <th>4274</th>\n",
       "      <td>2024-09-03 14:00</td>\n",
       "      <td>orthodontist</td>\n",
       "      <td>kevin anderson</td>\n",
       "      <td>True</td>\n",
       "      <td>NaN</td>\n",
       "    </tr>\n",
       "    <tr>\n",
       "      <th>4275</th>\n",
       "      <td>2024-09-03 14:30</td>\n",
       "      <td>orthodontist</td>\n",
       "      <td>kevin anderson</td>\n",
       "      <td>True</td>\n",
       "      <td>NaN</td>\n",
       "    </tr>\n",
       "    <tr>\n",
       "      <th>4276</th>\n",
       "      <td>2024-09-03 15:00</td>\n",
       "      <td>orthodontist</td>\n",
       "      <td>kevin anderson</td>\n",
       "      <td>True</td>\n",
       "      <td>NaN</td>\n",
       "    </tr>\n",
       "    <tr>\n",
       "      <th>4277</th>\n",
       "      <td>2024-09-03 15:30</td>\n",
       "      <td>orthodontist</td>\n",
       "      <td>kevin anderson</td>\n",
       "      <td>True</td>\n",
       "      <td>NaN</td>\n",
       "    </tr>\n",
       "    <tr>\n",
       "      <th>4278</th>\n",
       "      <td>2024-09-03 16:00</td>\n",
       "      <td>orthodontist</td>\n",
       "      <td>kevin anderson</td>\n",
       "      <td>True</td>\n",
       "      <td>NaN</td>\n",
       "    </tr>\n",
       "    <tr>\n",
       "      <th>4279</th>\n",
       "      <td>2024-09-03 16:30</td>\n",
       "      <td>orthodontist</td>\n",
       "      <td>kevin anderson</td>\n",
       "      <td>True</td>\n",
       "      <td>NaN</td>\n",
       "    </tr>\n",
       "  </tbody>\n",
       "</table>\n",
       "</div>"
      ],
      "text/plain": [
       "             date_slot specialization     doctor_name  is_available  \\\n",
       "4262  2024-09-03 08:00   orthodontist  kevin anderson          True   \n",
       "4263  2024-09-03 08:30   orthodontist  kevin anderson          True   \n",
       "4269  2024-09-03 11:30   orthodontist  kevin anderson          True   \n",
       "4270  2024-09-03 12:00   orthodontist  kevin anderson          True   \n",
       "4271  2024-09-03 12:30   orthodontist  kevin anderson          True   \n",
       "4272  2024-09-03 13:00   orthodontist  kevin anderson          True   \n",
       "4274  2024-09-03 14:00   orthodontist  kevin anderson          True   \n",
       "4275  2024-09-03 14:30   orthodontist  kevin anderson          True   \n",
       "4276  2024-09-03 15:00   orthodontist  kevin anderson          True   \n",
       "4277  2024-09-03 15:30   orthodontist  kevin anderson          True   \n",
       "4278  2024-09-03 16:00   orthodontist  kevin anderson          True   \n",
       "4279  2024-09-03 16:30   orthodontist  kevin anderson          True   \n",
       "\n",
       "      patient_to_attend  \n",
       "4262                NaN  \n",
       "4263                NaN  \n",
       "4269                NaN  \n",
       "4270                NaN  \n",
       "4271                NaN  \n",
       "4272                NaN  \n",
       "4274                NaN  \n",
       "4275                NaN  \n",
       "4276                NaN  \n",
       "4277                NaN  \n",
       "4278                NaN  \n",
       "4279                NaN  "
      ]
     },
     "execution_count": 9,
     "metadata": {},
     "output_type": "execute_result"
    }
   ],
   "source": [
    "ava"
   ]
  },
  {
   "cell_type": "code",
   "execution_count": 8,
   "metadata": {},
   "outputs": [],
   "source": [
    "history = {\"human\":f\"Hiasjldhfalksjda\", \"ai\":f\"this is ajeeeettt\"}\n",
    "history2 = {\"human\":\"TEsting this is ajeet to check history\", \"ai\":f\"History check 2 \"}\n",
    "\n",
    "\n"
   ]
  },
  {
   "cell_type": "code",
   "execution_count": 14,
   "metadata": {},
   "outputs": [],
   "source": [
    "combined_dict = []\n",
    "combined_dict.append(history)\n",
    "history2 = {\"human\":\"TEsting this is ajeet to check history\", \"ai\":f\"History check 2 \"}\n",
    "combined_dict.append(history2)"
   ]
  },
  {
   "cell_type": "code",
   "execution_count": 15,
   "metadata": {},
   "outputs": [
    {
     "data": {
      "text/plain": [
       "[{'human': 'Hiasjldhfalksjda', 'ai': 'this is ajeeeettt'},\n",
       " {'human': 'TEsting this is ajeet to check history', 'ai': 'History check 2 '}]"
      ]
     },
     "execution_count": 15,
     "metadata": {},
     "output_type": "execute_result"
    }
   ],
   "source": [
    "combined_dict"
   ]
  },
  {
   "cell_type": "code",
   "execution_count": 12,
   "metadata": {},
   "outputs": [],
   "source": [
    "history = {\n",
    "    \"history\":[\n",
    "        {'human': 'Hiasjldhfalksjda', 'ai': 'this is ajeeeettt'},\n",
    "        {'human': 'TEsting this is ajeet to check history', 'ai': 'History check 1 '},\n",
    "        {'human': 'TEsting this is ajeet to check history2', 'ai': 'History check 2 '},\n",
    "        {'human': 'TEsting this is ajeet to check history3', 'ai': 'History check 3 '},\n",
    "        {'human': 'TEsting this is ajeet to check history4', 'ai': 'History check 1.4 '},\n",
    "        {'human': 'TEsting this is ajeet to check history4', 'ai': 'History check 2.4 '},\n",
    "        {'human': 'TEsting this is ajeet to check history4', 'ai': 'History check 3.4 '},\n",
    "        {'human': 'TEsting this is ajeet to check history4', 'ai': 'History check 4.4 '},\n",
    "        {'human': 'TEsting this is ajeet to check history5', 'ai': 'History check 5 '}\n",
    "    ]\n",
    "}\n"
   ]
  },
  {
   "cell_type": "code",
   "execution_count": 2,
   "metadata": {},
   "outputs": [
    {
     "data": {
      "text/plain": [
       "{}"
      ]
     },
     "execution_count": 2,
     "metadata": {},
     "output_type": "execute_result"
    }
   ],
   "source": [
    "\n",
    "from Libs.libs import *\n",
    "a = getData(\"abcsdd\")\n",
    "# combined_history.append(a)\n",
    "# history = {\"history\":history}\n",
    "history"
   ]
  },
  {
   "cell_type": "code",
   "execution_count": 14,
   "metadata": {},
   "outputs": [],
   "source": [
    "if len(history['history'])>4:\n",
    "    length = len(history['history']) - 4\n",
    "    for i in range(length):\n",
    "        history[\"history\"].pop(0)\n",
    "    "
   ]
  },
  {
   "cell_type": "code",
   "execution_count": 20,
   "metadata": {},
   "outputs": [
    {
     "data": {
      "text/plain": [
       "{'history': [{'history': [None,\n",
       "    {'human': 'i live in bottle house',\n",
       "     'ai': \"That's interesting! Bottle houses are unique and eco-friendly. Is there something specific you'd like to discuss or ask about living in a bottle house?\"}]}]}"
      ]
     },
     "execution_count": 20,
     "metadata": {},
     "output_type": "execute_result"
    }
   ],
   "source": [
    "history = {\"history\":[]}\n",
    "\n",
    "\n",
    "\n",
    "history['history'].append(getData(\"abcsdd\"))\n",
    "history\n",
    "# history_new = {\"human\":f\"{state['messages'][0].content}\", \"ai\":f\"{state['messages'][-1].content}\"}\n",
    "# history['history'].append(history_new)"
   ]
  },
  {
   "cell_type": "code",
   "execution_count": 24,
   "metadata": {},
   "outputs": [
    {
     "name": "stdout",
     "output_type": "stream",
     "text": [
      "None ASdfkash\n"
     ]
    }
   ],
   "source": [
    "a = getData(\"abcsdd\")\n",
    "if a is None:\n",
    "    print(a,\"ASdfkash\")\n",
    "else:\n",
    "    print(\"value is none\")"
   ]
  },
  {
   "cell_type": "code",
   "execution_count": 28,
   "metadata": {},
   "outputs": [
    {
     "data": {
      "text/plain": [
       "{'history': [{'human': 'Hiasjldhfalksjda', 'ai': 'this is ajeeeettt'},\n",
       "  {'human': 'Test 2', 'ai': 'this tst 2'}]}"
      ]
     },
     "execution_count": 28,
     "metadata": {},
     "output_type": "execute_result"
    }
   ],
   "source": [
    "history = {\n",
    "    \"history\":[\n",
    "        {'human': 'Hiasjldhfalksjda', 'ai': 'this is ajeeeettt'}\n",
    "        ]}\n",
    "\n",
    "te = {'human': 'Test 2', 'ai': 'this tst 2'}\n",
    "history['history'].append(te)\n",
    "history"
   ]
  },
  {
   "cell_type": "code",
   "execution_count": 29,
   "metadata": {},
   "outputs": [
    {
     "data": {
      "text/plain": [
       "{'history': [{'human': 'Hiasjldhfalksjda', 'ai': 'this is ajeeeettt'},\n",
       "  {'human': 'Test 2', 'ai': 'this tst 2'},\n",
       "  {'human': 'Test 2', 'ai': 'this tst 2'}]}"
      ]
     },
     "execution_count": 29,
     "metadata": {},
     "output_type": "execute_result"
    }
   ],
   "source": [
    "\n",
    "te = {'human': 'Test 2', 'ai': 'this tst 2'}\n",
    "history['history'].append(te)\n",
    "history"
   ]
  },
  {
   "cell_type": "code",
   "execution_count": 12,
   "metadata": {},
   "outputs": [
    {
     "name": "stdout",
     "output_type": "stream",
     "text": [
      "{'history': [{'human': 'Test 2', 'ai': 'this tst 2'}]}\n"
     ]
    }
   ],
   "source": [
    "# history = {'history':[]}\n",
    "# a = getData(\"abcsdd\")\n",
    "\n",
    "history_new = {\"human\":f\"{state['messages'][0].content}\", \"ai\":f\"{state['messages'][-1].content}\"}\n",
    "# te = {'human': 'Test 2', 'ai': 'this tst 2'}\n",
    "# a['history'].append(te)\n",
    "\n",
    "\n",
    "history = {\"history\":[]}\n",
    "a = getData(\"abcsdd\")\n",
    "if a is None:\n",
    "    a = {'history':[]}\n",
    "    \n",
    "\n",
    "history_new = {'human': 'Test 2', 'ai': 'this tst 2'}\n",
    "\n",
    "\n",
    "\n",
    "\n",
    "a['history'].append(history_new)\n",
    "print(a)\n"
   ]
  },
  {
   "cell_type": "code",
   "execution_count": 5,
   "metadata": {},
   "outputs": [
    {
     "data": {
      "text/plain": [
       "{'history': [[{'human': 'i am ajeet',\n",
       "    'ai': 'Hi Ajeet! How can I assist you today?'}],\n",
       "  {'human': 'i am 88 years old',\n",
       "   'ai': 'Thank you for sharing that, Ajeet! How can I assist you today?'},\n",
       "  {'human': 'Test 2', 'ai': 'this tst 2'}]}"
      ]
     },
     "execution_count": 5,
     "metadata": {},
     "output_type": "execute_result"
    }
   ],
   "source": [
    "history"
   ]
  },
  {
   "cell_type": "code",
   "execution_count": null,
   "metadata": {},
   "outputs": [],
   "source": []
  }
 ],
 "metadata": {
  "kernelspec": {
   "display_name": "Python 3",
   "language": "python",
   "name": "python3"
  },
  "language_info": {
   "codemirror_mode": {
    "name": "ipython",
    "version": 3
   },
   "file_extension": ".py",
   "mimetype": "text/x-python",
   "name": "python",
   "nbconvert_exporter": "python",
   "pygments_lexer": "ipython3",
   "version": "3.11.0"
  }
 },
 "nbformat": 4,
 "nbformat_minor": 2
}
