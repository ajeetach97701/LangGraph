{
 "cells": [
  {
   "cell_type": "code",
   "execution_count": 9,
   "metadata": {},
   "outputs": [],
   "source": [
    "from Libs.libs import *"
   ]
  },
  {
   "cell_type": "markdown",
   "metadata": {},
   "source": [
    "# Kris Naik"
   ]
  },
  {
   "cell_type": "markdown",
   "metadata": {},
   "source": [
    "## Building a chatbot using LangGraph"
   ]
  },
  {
   "cell_type": "code",
   "execution_count": 2,
   "metadata": {},
   "outputs": [],
   "source": [
    "from typing import Annotated\n",
    "from typing_extensions import TypedDict\n",
    "from langgraph.graph import StateGraph, START, END\n",
    "#stategraph is used for state management. \n",
    "from langgraph.graph.message import add_messages"
   ]
  },
  {
   "cell_type": "code",
   "execution_count": 3,
   "metadata": {},
   "outputs": [],
   "source": [
    "class State(TypedDict):\n",
    "    messages:Annotated[list, add_messages]# message add garne to keep track of the state\n",
    "    \n",
    "\n",
    "graph_builder = StateGraph(State)"
   ]
  },
  {
   "cell_type": "code",
   "execution_count": 4,
   "metadata": {},
   "outputs": [],
   "source": [
    "graph_builder"
   ]
  },
  {
   "cell_type": "code",
   "execution_count": 5,
   "metadata": {},
   "outputs": [],
   "source": [
    "def chatbot(state:State): # based on the statbe, the state management will happen\n",
    "    return {\"messages\":llm.invoke(state['messages'])}"
   ]
  },
  {
   "cell_type": "code",
   "execution_count": 6,
   "metadata": {},
   "outputs": [],
   "source": [
    "graph_builder.add_node(\"chatbot\", chatbot)"
   ]
  },
  {
   "cell_type": "code",
   "execution_count": 7,
   "metadata": {},
   "outputs": [],
   "source": [
    "graph_builder.add_edge(START,\"chatbot\")\n",
    "graph_builder.add_edge(\"chatbot\",END)"
   ]
  },
  {
   "cell_type": "code",
   "execution_count": 8,
   "metadata": {},
   "outputs": [],
   "source": [
    "graph = graph_builder.compile()"
   ]
  },
  {
   "cell_type": "code",
   "execution_count": 9,
   "metadata": {},
   "outputs": [],
   "source": [
    "from IPython.display import Image, display\n",
    "try:\n",
    "  display(Image(graph.get_graph().draw_mermaid_png()))\n",
    "except Exception:\n",
    "  pass"
   ]
  },
  {
   "cell_type": "code",
   "execution_count": 10,
   "metadata": {},
   "outputs": [],
   "source": [
    "while True:\n",
    "  user_input=input(\"User: \")\n",
    "  if user_input.lower() in [\"quit\",\"q\"]:\n",
    "    print(\"Good Bye\")\n",
    "    break\n",
    "  for event in graph.stream({'messages':(\"user\",user_input)}):\n",
    "    print(event.values())\n",
    "    for value in event.values():\n",
    "      print(value['messages'])\n",
    "      print(\"Assistant:\",value[\"messages\"].content)"
   ]
  },
  {
   "cell_type": "code",
   "execution_count": 11,
   "metadata": {},
   "outputs": [],
   "source": [
    "while True:\n",
    "  user_input = input(\"User: \")\n",
    "  if user_input.lower() in [\"quit\", \"q\"]:\n",
    "    print(\"Good Bye\")\n",
    "    break\n",
    "  for event in graph.stream({\"messages\":(\"user\",user_input)}):\n",
    "    print(event.values())\n",
    "    for value in event.values():\n",
    "      print(value[\"messages\"])\n",
    "      print(\"Assistant\", value[\"messages\"].content)"
   ]
  },
  {
   "cell_type": "code",
   "execution_count": null,
   "metadata": {},
   "outputs": [],
   "source": []
  },
  {
   "cell_type": "markdown",
   "metadata": {},
   "source": [
    "# AI with Misbah"
   ]
  },
  {
   "cell_type": "markdown",
   "metadata": {},
   "source": [
    "## Example 1"
   ]
  },
  {
   "cell_type": "code",
   "execution_count": 2,
   "metadata": {},
   "outputs": [],
   "source": [
    "\n",
    "def function_1(input_1):\n",
    "    return input_1 + \" Hi from function 1.\"\n",
    "\n",
    "def function_2(input_2):\n",
    "    return input_2 + \" Hi from function 2.\"\n",
    "\n",
    "\n"
   ]
  },
  {
   "cell_type": "code",
   "execution_count": 3,
   "metadata": {},
   "outputs": [],
   "source": [
    "from langgraph.graph import Graph\n",
    "workflow = Graph()\n",
    "workflow.add_node(\"node_1\", function_1)\n",
    "workflow.add_node(\"node_2\", function_2)\n",
    "workflow.add_edge(\"node_1\", \"node_2\")\n",
    "workflow.set_entry_point(\"node_1\")\n",
    "workflow.set_finish_point(\"node_2\")\n",
    "\n",
    "app = workflow.compile()"
   ]
  },
  {
   "cell_type": "code",
   "execution_count": 4,
   "metadata": {},
   "outputs": [
    {
     "data": {
      "text/plain": [
       "'Hello Hi from function 1. Hi from function 2.'"
      ]
     },
     "execution_count": 4,
     "metadata": {},
     "output_type": "execute_result"
    }
   ],
   "source": [
    "app.invoke(\"Hello\")"
   ]
  },
  {
   "cell_type": "code",
   "execution_count": 7,
   "metadata": {},
   "outputs": [
    {
     "name": "stdout",
     "output_type": "stream",
     "text": [
      "output from node node_1:\n",
      "Hello Hi from function 1.\n",
      "\n",
      "-------------\n",
      "\n",
      "output from node node_2:\n",
      "Hello Hi from function 1. Hi from function 2.\n",
      "\n",
      "-------------\n",
      "\n"
     ]
    }
   ],
   "source": [
    "input = \"Hello\"\n",
    "for output in app.stream(input):\n",
    "    for key, value in output.items():\n",
    "        print(f\"output from node {key}:\")\n",
    "        print(value)\n",
    "        # print(\"---------\")\n",
    "    print(\"\\n-------------\\n\")"
   ]
  },
  {
   "cell_type": "markdown",
   "metadata": {},
   "source": [
    "## Example 2"
   ]
  },
  {
   "cell_type": "code",
   "execution_count": 15,
   "metadata": {},
   "outputs": [
    {
     "data": {
      "text/plain": [
       "'Hello! How can I assist you today?'"
      ]
     },
     "execution_count": 15,
     "metadata": {},
     "output_type": "execute_result"
    }
   ],
   "source": [
    "llm.invoke(\"hi\").content"
   ]
  },
  {
   "cell_type": "code",
   "execution_count": 18,
   "metadata": {},
   "outputs": [],
   "source": [
    "def function_1(input_1):\n",
    "    response = llm.invoke(input_1)\n",
    "    return response.content\n",
    "\n",
    "def function_2(input_2):\n",
    "    return \"Agent says: \" + input_2"
   ]
  },
  {
   "cell_type": "code",
   "execution_count": 21,
   "metadata": {},
   "outputs": [],
   "source": [
    "workflow = Graph()\n",
    "workflow.add_node(\"agent\", function_1)\n",
    "workflow.add_node(\"node_2\", function_2)\n",
    "workflow.add_edge('agent', 'node_2')\n",
    "\n",
    "workflow.set_entry_point('agent')\n",
    "workflow.set_finish_point('node_2')\n",
    "\n",
    "app = workflow.compile()"
   ]
  },
  {
   "cell_type": "code",
   "execution_count": 22,
   "metadata": {},
   "outputs": [
    {
     "data": {
      "text/plain": [
       "'Agent says: Hi Ajeet! How can I assist you today?'"
      ]
     },
     "execution_count": 22,
     "metadata": {},
     "output_type": "execute_result"
    }
   ],
   "source": [
    "app.invoke(\"Hi my name is ajeet.\")"
   ]
  },
  {
   "cell_type": "code",
   "execution_count": 23,
   "metadata": {},
   "outputs": [
    {
     "name": "stdout",
     "output_type": "stream",
     "text": [
      "output from node, agent: Hello! How can I assist you today?\n",
      "_--------------_______-------\n",
      "output from node, node_2: Agent says: Hello! How can I assist you today?\n",
      "_--------------_______-------\n"
     ]
    }
   ],
   "source": [
    "input = \"Hello\"\n",
    "for output in app.stream(input):\n",
    "    for key, value in output.items():\n",
    "        print(f\"output from node, {key}: {value}\")\n",
    "        print(\"----------------------------\")\n",
    "        \n",
    "        "
   ]
  },
  {
   "cell_type": "markdown",
   "metadata": {},
   "source": [
    "## Example 3"
   ]
  },
  {
   "cell_type": "code",
   "execution_count": 24,
   "metadata": {},
   "outputs": [],
   "source": [
    "def function_1(input_1):\n",
    "    complete_query = f\"yCLB4478CEFour task is to provide only the city name based on the user query\\\n",
    "        Nothing more, just the city name mentioned from the query: {input_1}\"\n",
    "    response = llm.invoke(complete_query)\n",
    "    return response.content\n",
    "\n",
    "def function_2(input_2):\n",
    "    return \"Agent says\"+ input_2"
   ]
  },
  {
   "cell_type": "code",
   "execution_count": 26,
   "metadata": {},
   "outputs": [],
   "source": [
    "workflow = Graph()\n",
    "workflow.add_node('agent', function_1)\n",
    "workflow.add_node(\"node_2\", function_2)\n",
    "\n",
    "workflow.add_edge('agent','node_2')\n",
    "workflow.set_entry_point(\"agent\")\n",
    "workflow.set_finish_point('node_2')\n",
    "\n",
    "app = workflow.compile()"
   ]
  },
  {
   "cell_type": "markdown",
   "metadata": {},
   "source": [
    "## Agent State\n"
   ]
  },
  {
   "cell_type": "code",
   "execution_count": 30,
   "metadata": {},
   "outputs": [],
   "source": [
    "AgentState = {} \n",
    "\n",
    "AgentState['messages'] = []"
   ]
  },
  {
   "cell_type": "code",
   "execution_count": 31,
   "metadata": {},
   "outputs": [
    {
     "data": {
      "text/plain": [
       "{'messages': []}"
      ]
     },
     "execution_count": 31,
     "metadata": {},
     "output_type": "execute_result"
    }
   ],
   "source": [
    "AgentState"
   ]
  },
  {
   "cell_type": "code",
   "execution_count": null,
   "metadata": {},
   "outputs": [],
   "source": [
    "def function_1(state):\n",
    "    messages = state['memory']\n",
    "    user_input = messages[-1]\n",
    "    complete_query = f\"Your task is to provide only the city name based on the user query\\\n",
    "    Nothing more, just the city name mentioned from the query: {user_input}\"\n",
    "    response = llm.invoke(complete_query)\n",
    "    return state\n",
    "\n",
    "def function_2(state):\n",
    "    messages = state['messages']\n",
    "    agent_response = messages[-1]\n",
    "    \n",
    "\n",
    "    "
   ]
  },
  {
   "cell_type": "code",
   "execution_count": null,
   "metadata": {},
   "outputs": [],
   "source": []
  },
  {
   "cell_type": "code",
   "execution_count": null,
   "metadata": {},
   "outputs": [],
   "source": [
    "from typing import TypedDict"
   ]
  },
  {
   "cell_type": "markdown",
   "metadata": {},
   "source": [
    "## Lnggraph official"
   ]
  },
  {
   "cell_type": "code",
   "execution_count": 210,
   "metadata": {},
   "outputs": [],
   "source": [
    "from Libs.libs import *\n",
    "\n",
    "from pydantic import BaseModel\n",
    "from typing import Literal\n",
    "\n",
    "# class routeResponse(BaseModel):\n",
    "#     next:Literal['Researcher', \"FINISH\", 'Coder']\n",
    "\n",
    "# prompt = ChatPromptTemplate.from_messages(\n",
    "#     [\n",
    "#         (\n",
    "#             \"system\",\n",
    "#             \"\"\"You are a supervisor tasked with managing a conversation between the following workers:  {members}. Given the following user request,respond with the worker to act next. Each worker will perform atask and respond with their results and status. When finished,respond with FINISH\"\"\"\n",
    "#         ),\n",
    "#         (\n",
    "#             \"system\",\n",
    "#             \"\"\"Given the conversation above, who should act next? Or should we FINISH? Select one of: {options}\"\"\")\n",
    "#         (\"placeholder\", \"{agent_scratchpad}\"),\n",
    "#         (\"placeholder\", \"{chat_history}\"),\n",
    "#         (\"human\", \"{query}\")\n",
    "#     ]\n",
    "# ).partial(options  = str(options), members = \", \".join(members))\n",
    "\n",
    "\n",
    "    "
   ]
  },
  {
   "cell_type": "code",
   "execution_count": 5,
   "metadata": {},
   "outputs": [],
   "source": [
    "members = [\"Mercedes\", \"Lamborghini\"]\n",
    "\n",
    "options = [\"FINISH\"] + members\n",
    "\n",
    "conditional_map = {k:k for k in members}"
   ]
  },
  {
   "cell_type": "code",
   "execution_count": 6,
   "metadata": {},
   "outputs": [
    {
     "data": {
      "text/plain": [
       "{'Mercedes': 'Mercedes', 'Lamborghini': 'Lamborghini'}"
      ]
     },
     "execution_count": 6,
     "metadata": {},
     "output_type": "execute_result"
    }
   ],
   "source": [
    "conditional_map"
   ]
  },
  {
   "cell_type": "code",
   "execution_count": 3,
   "metadata": {},
   "outputs": [],
   "source": []
  },
  {
   "cell_type": "code",
   "execution_count": 1,
   "metadata": {},
   "outputs": [
    {
     "data": {
      "image/jpeg": "[encoded data removed]",
      "text/plain": [
       "<IPython.core.display.Image object>"
      ]
     },
     "metadata": {},
     "output_type": "display_data"
    }
   ],
   "source": []
  },
  {
   "cell_type": "code",
   "execution_count": 1,
   "metadata": {},
   "outputs": [
    {
     "name": "stdout",
     "output_type": "stream",
     "text": [
      "entered here in the agent\n",
      "entered here in the agent\n"
     ]
    },
    {
     "data": {
      "image/jpeg": "[encoded data removed]",
      "text/plain": [
       "<IPython.core.display.Image object>"
      ]
     },
     "metadata": {},
     "output_type": "display_data"
    }
   ],
   "source": [
    "from Libs.libs import *\n",
    "from graph import  graph\n",
    "\n",
    "from IPython.display import Image, display\n",
    "\n",
    "display(Image(graph.get_graph(xray=True).draw_mermaid_png()))"
   ]
  },
  {
   "cell_type": "code",
   "execution_count": 1,
   "metadata": {},
   "outputs": [],
   "source": [
    "# user_input = \"Tell me about mercedes g wagon\"\n",
    "# # graph.invoke({\"input\":user_input})\n",
    "# for s in graph.stream(\n",
    "#     {\n",
    "#         \"messages\":[HumanMessage(content=user_input)],\n",
    "#     }, \n",
    "#     {\n",
    "#         \"recursion_limit\": 2\n",
    "#     },\n",
    "# ):\n",
    "#     if \"__end__\" not in s:\n",
    "#         print(s)\n",
    "#         print(\"-----\")"
   ]
  },
  {
   "cell_type": "code",
   "execution_count": 100,
   "metadata": {},
   "outputs": [
    {
     "data": {
      "text/html": [
       "<div>\n",
       "<style scoped>\n",
       "    .dataframe tbody tr th:only-of-type {\n",
       "        vertical-align: middle;\n",
       "    }\n",
       "\n",
       "    .dataframe tbody tr th {\n",
       "        vertical-align: top;\n",
       "    }\n",
       "\n",
       "    .dataframe thead th {\n",
       "        text-align: right;\n",
       "    }\n",
       "</style>\n",
       "<table border=\"1\" class=\"dataframe\">\n",
       "  <thead>\n",
       "    <tr style=\"text-align: right;\">\n",
       "      <th></th>\n",
       "      <th>date_slot</th>\n",
       "      <th>specialization</th>\n",
       "      <th>doctor_name</th>\n",
       "      <th>is_available</th>\n",
       "      <th>patient_to_attend</th>\n",
       "    </tr>\n",
       "  </thead>\n",
       "  <tbody>\n",
       "    <tr>\n",
       "      <th>0</th>\n",
       "      <td>2024-08-05 08:00</td>\n",
       "      <td>general_dentist</td>\n",
       "      <td>john doe</td>\n",
       "      <td>False</td>\n",
       "      <td>1000001.0</td>\n",
       "    </tr>\n",
       "    <tr>\n",
       "      <th>1</th>\n",
       "      <td>2024-08-05 08:30</td>\n",
       "      <td>general_dentist</td>\n",
       "      <td>john doe</td>\n",
       "      <td>False</td>\n",
       "      <td>1000082.0</td>\n",
       "    </tr>\n",
       "    <tr>\n",
       "      <th>2</th>\n",
       "      <td>2024-08-05 09:00</td>\n",
       "      <td>general_dentist</td>\n",
       "      <td>john doe</td>\n",
       "      <td>False</td>\n",
       "      <td>1000048.0</td>\n",
       "    </tr>\n",
       "    <tr>\n",
       "      <th>3</th>\n",
       "      <td>2024-08-05 09:30</td>\n",
       "      <td>general_dentist</td>\n",
       "      <td>john doe</td>\n",
       "      <td>False</td>\n",
       "      <td>1000036.0</td>\n",
       "    </tr>\n",
       "    <tr>\n",
       "      <th>4</th>\n",
       "      <td>2024-08-05 10:00</td>\n",
       "      <td>general_dentist</td>\n",
       "      <td>john doe</td>\n",
       "      <td>False</td>\n",
       "      <td>1000024.0</td>\n",
       "    </tr>\n",
       "    <tr>\n",
       "      <th>...</th>\n",
       "      <td>...</td>\n",
       "      <td>...</td>\n",
       "      <td>...</td>\n",
       "      <td>...</td>\n",
       "      <td>...</td>\n",
       "    </tr>\n",
       "    <tr>\n",
       "      <th>4275</th>\n",
       "      <td>2024-09-03 14:30</td>\n",
       "      <td>orthodontist</td>\n",
       "      <td>kevin anderson</td>\n",
       "      <td>True</td>\n",
       "      <td>NaN</td>\n",
       "    </tr>\n",
       "    <tr>\n",
       "      <th>4276</th>\n",
       "      <td>2024-09-03 15:00</td>\n",
       "      <td>orthodontist</td>\n",
       "      <td>kevin anderson</td>\n",
       "      <td>True</td>\n",
       "      <td>NaN</td>\n",
       "    </tr>\n",
       "    <tr>\n",
       "      <th>4277</th>\n",
       "      <td>2024-09-03 15:30</td>\n",
       "      <td>orthodontist</td>\n",
       "      <td>kevin anderson</td>\n",
       "      <td>True</td>\n",
       "      <td>NaN</td>\n",
       "    </tr>\n",
       "    <tr>\n",
       "      <th>4278</th>\n",
       "      <td>2024-09-03 16:00</td>\n",
       "      <td>orthodontist</td>\n",
       "      <td>kevin anderson</td>\n",
       "      <td>True</td>\n",
       "      <td>NaN</td>\n",
       "    </tr>\n",
       "    <tr>\n",
       "      <th>4279</th>\n",
       "      <td>2024-09-03 16:30</td>\n",
       "      <td>orthodontist</td>\n",
       "      <td>kevin anderson</td>\n",
       "      <td>True</td>\n",
       "      <td>NaN</td>\n",
       "    </tr>\n",
       "  </tbody>\n",
       "</table>\n",
       "<p>4280 rows × 5 columns</p>\n",
       "</div>"
      ],
      "text/plain": [
       "             date_slot   specialization     doctor_name  is_available  \\\n",
       "0     2024-08-05 08:00  general_dentist        john doe         False   \n",
       "1     2024-08-05 08:30  general_dentist        john doe         False   \n",
       "2     2024-08-05 09:00  general_dentist        john doe         False   \n",
       "3     2024-08-05 09:30  general_dentist        john doe         False   \n",
       "4     2024-08-05 10:00  general_dentist        john doe         False   \n",
       "...                ...              ...             ...           ...   \n",
       "4275  2024-09-03 14:30     orthodontist  kevin anderson          True   \n",
       "4276  2024-09-03 15:00     orthodontist  kevin anderson          True   \n",
       "4277  2024-09-03 15:30     orthodontist  kevin anderson          True   \n",
       "4278  2024-09-03 16:00     orthodontist  kevin anderson          True   \n",
       "4279  2024-09-03 16:30     orthodontist  kevin anderson          True   \n",
       "\n",
       "      patient_to_attend  \n",
       "0             1000001.0  \n",
       "1             1000082.0  \n",
       "2             1000048.0  \n",
       "3             1000036.0  \n",
       "4             1000024.0  \n",
       "...                 ...  \n",
       "4275                NaN  \n",
       "4276                NaN  \n",
       "4277                NaN  \n",
       "4278                NaN  \n",
       "4279                NaN  \n",
       "\n",
       "[4280 rows x 5 columns]"
      ]
     },
     "execution_count": 100,
     "metadata": {},
     "output_type": "execute_result"
    }
   ],
   "source": [
    "import pandas as pd\n",
    "df = pd.read_csv(f\"./data/syntetic_data/availability.csv\")\n",
    "df"
   ]
  },
  {
   "cell_type": "code",
   "execution_count": 101,
   "metadata": {},
   "outputs": [
    {
     "data": {
      "text/plain": [
       "0       08:00\n",
       "1       08:30\n",
       "2       09:00\n",
       "3       09:30\n",
       "4       10:00\n",
       "        ...  \n",
       "4275    14:30\n",
       "4276    15:00\n",
       "4277    15:30\n",
       "4278    16:00\n",
       "4279    16:30\n",
       "Name: date_slot, Length: 4280, dtype: object"
      ]
     },
     "execution_count": 101,
     "metadata": {},
     "output_type": "execute_result"
    }
   ],
   "source": [
    "df['date_slot'].apply(lambda x: x.split(' ')[-1])"
   ]
  },
  {
   "cell_type": "code",
   "execution_count": 102,
   "metadata": {},
   "outputs": [],
   "source": [
    "from pydantic import BaseModel, field_validator, Field\n",
    "\n",
    "\n",
    "class DateModel(BaseModel):\n",
    "    \"\"\"\n",
    "    The way the date should be structured and formatted\n",
    "    \"\"\"\n",
    "    date: str = Field(..., description=\"Propertly formatted date\", pattern=r'^\\d{4}-\\d{2}-\\d{2}$')\n",
    "\n",
    "    @field_validator(\"date\")\n",
    "    def check_format_date(cls, v):\n",
    "        if not re.match(r'^\\d{4}-\\d{2}-\\d{2}$', v):\n",
    "            raise ValueError(\"The date must be in the format 'YYYY-MM-DD'\")\n",
    "        return v\n",
    "\n"
   ]
  },
  {
   "cell_type": "code",
   "execution_count": 103,
   "metadata": {},
   "outputs": [
    {
     "data": {
      "text/plain": [
       "0       2024-08-05\n",
       "1       2024-08-05\n",
       "2       2024-08-05\n",
       "3       2024-08-05\n",
       "4       2024-08-05\n",
       "           ...    \n",
       "4275    2024-09-03\n",
       "4276    2024-09-03\n",
       "4277    2024-09-03\n",
       "4278    2024-09-03\n",
       "4279    2024-09-03\n",
       "Name: date_slot, Length: 4280, dtype: object"
      ]
     },
     "execution_count": 103,
     "metadata": {},
     "output_type": "execute_result"
    }
   ],
   "source": [
    "df['date_slot'].apply(lambda x: x.split(' ')[-0]) "
   ]
  },
  {
   "cell_type": "code",
   "execution_count": 104,
   "metadata": {},
   "outputs": [],
   "source": [
    "from models.Schema import DateModel\n",
    "desired_date = DateModel(date=\"2024-09-03\")\n",
    "desired_date.date\n",
    "doctor_name = \"kevin anderson\""
   ]
  },
  {
   "cell_type": "code",
   "execution_count": 105,
   "metadata": {},
   "outputs": [
    {
     "data": {
      "text/plain": [
       "4262    2024-09-03 08:00\n",
       "4263    2024-09-03 08:30\n",
       "4269    2024-09-03 11:30\n",
       "4270    2024-09-03 12:00\n",
       "4271    2024-09-03 12:30\n",
       "4272    2024-09-03 13:00\n",
       "4274    2024-09-03 14:00\n",
       "4275    2024-09-03 14:30\n",
       "4276    2024-09-03 15:00\n",
       "4277    2024-09-03 15:30\n",
       "4278    2024-09-03 16:00\n",
       "4279    2024-09-03 16:30\n",
       "Name: date_slot, dtype: object"
      ]
     },
     "execution_count": 105,
     "metadata": {},
     "output_type": "execute_result"
    }
   ],
   "source": [
    "df[(df['date_slot'].apply(lambda x: x.split(' ')[0]) == desired_date.date) &(doctor_name == df['doctor_name']) & df['is_available'] == True]['date_slot']"
   ]
  },
  {
   "cell_type": "code",
   "execution_count": 106,
   "metadata": {},
   "outputs": [],
   "source": [
    "availability = list(df[(df['date_slot'].apply(lambda x: x.split(' ')[0]) == desired_date.date) & (doctor_name == df['doctor_name'])&(df['is_available'] == True)][\"date_slot\"])"
   ]
  },
  {
   "cell_type": "code",
   "execution_count": 107,
   "metadata": {},
   "outputs": [],
   "source": [
    "outpur  = ''\n",
    "outpur = f\"Availablity for the doctor {doctor_name} is\\n\"+\",\\n\".join(availability)"
   ]
  },
  {
   "cell_type": "code",
   "execution_count": 117,
   "metadata": {},
   "outputs": [],
   "source": [
    "specialization = \"orthodontist\""
   ]
  },
  {
   "cell_type": "code",
   "execution_count": 202,
   "metadata": {},
   "outputs": [
    {
     "name": "stderr",
     "output_type": "stream",
     "text": [
      "/var/folders/n8/zp_8cq8s4418zg3_64l36h780000gn/T/ipykernel_86445/2863661938.py:1: DeprecationWarning: DataFrameGroupBy.apply operated on the grouping columns. This behavior is deprecated, and in a future version of pandas the grouping columns will be excluded from the operation. Either pass `include_groups=False` to exclude the groupings or explicitly select the grouping columns after groupby to silence this warning.\n",
      "  available_specialization = df[df['date_slot'].apply(lambda x:x.split(' ')[0] == desired_date.date) & (df['specialization'] == specialization)&(df['is_available'] == True)].groupby(['specialization','doctor_name']).apply(list)\n"
     ]
    },
    {
     "data": {
      "text/plain": [
       "specialization  doctor_name   \n",
       "orthodontist    kevin anderson    [date_slot, specialization, doctor_name, is_av...\n",
       "dtype: object"
      ]
     },
     "execution_count": 202,
     "metadata": {},
     "output_type": "execute_result"
    }
   ],
   "source": [
    "available_specialization = df[df['date_slot'].apply(lambda x:x.split(' ')[0] == desired_date.date) & (df['specialization'] == specialization)&(df['is_available'] == True)].groupby(['specialization','doctor_name']).apply(list)\n",
    "available_specialization\n",
    "# .agg(lambda x:', '. join(x))"
   ]
  },
  {
   "cell_type": "code",
   "execution_count": 207,
   "metadata": {},
   "outputs": [
    {
     "name": "stdout",
     "output_type": "stream",
     "text": [
      "0\n"
     ]
    }
   ],
   "source": [
    "# rows = df[(df['date_slot'].apply(lambda input: input.split(' ')[0]) == desired_date.date) & (df['specialization'] == 'specialization') & (df['is_available'] == True)].reset_index()\n",
    "# available_specialization = rows[['date_slot', 'specialization', 'doctor_name']]\n",
    "# print(len(available_specialization))\n",
    "\n",
    "# output = \"availability for the doctor\"\n",
    "# for index, row in available_specialization.iterrows():\n",
    "\n",
    "#     output += f\"\\n{row['date_slot']}\"\n",
    "    \n",
    "# print(output)"
   ]
  },
  {
   "cell_type": "code",
   "execution_count": 215,
   "metadata": {},
   "outputs": [
    {
     "name": "stdout",
     "output_type": "stream",
     "text": [
      "Availability for the doctor with specialization: orthodontist\n",
      "2024-09-03 08:00\n",
      "2024-09-03 08:30\n",
      "2024-09-03 11:30\n",
      "2024-09-03 12:00\n",
      "2024-09-03 12:30\n",
      "2024-09-03 13:00\n",
      "2024-09-03 14:00\n",
      "2024-09-03 14:30\n",
      "2024-09-03 15:00\n",
      "2024-09-03 15:30\n",
      "2024-09-03 16:00\n",
      "2024-09-03 16:30\n"
     ]
    }
   ],
   "source": [
    "# def check_availability_by_specialization(desired_date:DateModel, specialization:Literal['General', \"ENT\",\"Dentist\",\"orthodontist\"]):\n",
    "#     df = pd.read_csv(f\"./data/syntetic_data/availability.csv\")\n",
    "#     rows = df[(df['date_slot'].apply(lambda input: input.split(' ')[0]) == desired_date.date) & (df['specialization'] == specialization) & (df['is_available'] == True)].reset_index()\n",
    "#     available_specialization = rows[['date_slot', 'specialization', 'doctor_name']]    \n",
    "#     if len(available_specialization) == 0:\n",
    "#         return f\"No doctors are available for {available_specialization}\"    \n",
    "#     else:\n",
    "#         output = f\"Availability for the doctor with specialization: {specialization}\"\n",
    "#         for index, row in available_specialization.iterrows():\n",
    "#             output += f\"\\n{row['date_slot']}\"\n",
    "        \n",
    "#         return output\n",
    "    \n",
    "# desired_date = DateModel(date=\"2024-09-03\")\n",
    "# desired_date.date\n",
    "# doctor_name = \"orthodontist\"\n",
    "# availability_spec = check_availability_by_specialization(desired_date=desired_date, specialization=doctor_name)\n",
    "# print(availability_spec)"
   ]
  },
  {
   "cell_type": "code",
   "execution_count": 124,
   "metadata": {},
   "outputs": [],
   "source": [
    "rows = df[(df['date_slot'].apply(lambda input: input.split(' ')[0]) == desired_date.date) & (df['specialization'] == specialization) & (df['is_available'] == True)].groupby(['specialization', 'doctor_name'])['date_slot_time'].apply(list).reset_index(name='available_slots')"
   ]
  },
  {
   "cell_type": "code",
   "execution_count": 122,
   "metadata": {},
   "outputs": [
    {
     "data": {
      "text/plain": [
       "'Availablity for the doctor orthodontist is\\ndate_slot,\\nspecialization,\\ndoctor_name,\\nis_available,\\npatient_to_attend'"
      ]
     },
     "execution_count": 122,
     "metadata": {},
     "output_type": "execute_result"
    }
   ],
   "source": [
    "outpur_specialization  = ''\n",
    "outpur_specialization = f\"Availablity for the doctor {specialization} is\\n\"+\",\\n\".join(available_specialization)\n",
    "outpur_specialization"
   ]
  },
  {
   "cell_type": "code",
   "execution_count": null,
   "metadata": {},
   "outputs": [],
   "source": []
  },
  {
   "cell_type": "code",
   "execution_count": null,
   "metadata": {},
   "outputs": [],
   "source": []
  },
  {
   "cell_type": "code",
   "execution_count": 1,
   "metadata": {},
   "outputs": [],
   "source": [
    "from langchain_core.messages import HumanMessage, SystemMessage\n",
    "from langgraph.checkpoint.memory import MemorySaver\n",
    "from langgraph.graph import END, StateGraph, MessagesState\n",
    "from langgraph.prebuilt import ToolNode\n",
    "from typing import TypedDict, Annotated, List, Literal\n",
    "from langchain_core.messages import AnyMessage, HumanMessage\n",
    "import operator\n",
    "from Libs.libs import *\n",
    "from Agent.agent_supervisor_take_2 import *\n",
    "from datetime import datetime\n"
   ]
  },
  {
   "cell_type": "code",
   "execution_count": 2,
   "metadata": {},
   "outputs": [],
   "source": []
  },
  {
   "cell_type": "code",
   "execution_count": 3,
   "metadata": {},
   "outputs": [],
   "source": [
    "from langchain_core.messages import HumanMessage, SystemMessage\n",
    "from langgraph.checkpoint.memory import MemorySaver\n",
    "from langgraph.graph import END, StateGraph, MessagesState\n",
    "from langgraph.prebuilt import ToolNode\n",
    "from typing import TypedDict, Annotated, List, Literal\n",
    "from langchain_core.messages import AnyMessage, HumanMessage\n",
    "import operator\n",
    "from Libs.libs import *\n",
    "from Agent.agent_supervisor_take_2 import *\n",
    "from datetime import datetime\n",
    "\n",
    "\n",
    "from Libs.libs import *\n",
    "\n",
    "class MessagesState(TypedDict):\n",
    "    messages: Annotated[List[AnyMessage], operator.add]\n",
    "\n",
    "tool = [check_availability_by_doctor, check_availability_by_specialization, mercedes_tool]\n",
    "# tool = [mercedes_tool]\n",
    "tool_node = ToolNode(tools=tool)\n",
    "model = llm.bind_tools(tools = tool, strict=True)\n",
    "\n",
    "def read_human_feedback(state):\n",
    "    # if state['messages'][-1].tool_calls == []:\n",
    "    #     logger.info(\"AI: \"+ state['messages'][-1].content)\n",
    "    #     user_msg = input(\"Reply: \")\n",
    "    print(\"..........\",state['messages'][-1].content)\n",
    "    return state['messages'][-1].content\n",
    "    #     pass\n",
    "\n",
    "def call_model(state: MessagesState):\n",
    "    # messages = [SystemMessage(content=f\"You are helpful assistant.\\nAs reference, today is {datetime.now().strftime('%Y-%m-%d %H:%M, %A')}.\\nKeep a friendly, professional tone.\\nAvoid verbosity.\\nConsiderations:\\n- Don´t assume parameters in call functions that it didnt say.\\n- MUST NOT force users how to write. Let them write in the way they want.\\n- The conversation should be very natural like a secretary talking with a client.\\n- Call only ONE tool at a time.\")] + state['messages']\n",
    "    messages = [SystemMessage(content=\"You are a helpful assistant. As reference, today is {datetime.now().strftime('%Y-%m-%d %H:%M, %A')}. Always use tools to answer the queries\")]\n",
    "    response = model.invoke(messages)\n",
    "    return {\"messages\": [response]}\n",
    "\n",
    "def should_continue(state: MessagesState) -> Literal[\"tools\", \"human\"]:\n",
    "    messages = state['messages']\n",
    "    last_message = messages[-1]\n",
    "    if last_message.tool_calls:\n",
    "        return \"tools\"\n",
    "    return \"human\"\n",
    "\n",
    "def should_continue_with_feedback(state: MessagesState) -> Literal[\"agent\", \"end\"]:\n",
    "    messages = state['messages']\n",
    "    last_message = messages[-1]\n",
    "    if isinstance(last_message, dict):\n",
    "        if last_message.get(\"type\",\"\") == 'human':\n",
    "            return \"agent\"\n",
    "    if (isinstance(last_message, HumanMessage)):\n",
    "        return \"agent\"\n",
    "    return \"end\"\n",
    "\n",
    "workflow = StateGraph(MessagesState)\n",
    "workflow.add_node(\"agent\",call_model)\n",
    "workflow.add_node(\"tools\",tool_node)\n",
    "workflow.add_node(\"human\", read_human_feedback)\n",
    "\n",
    "\n",
    "workflow.add_conditional_edges(\n",
    "    \"agent\",\n",
    "    should_continue,\n",
    "    {\"human\":\"human\",\n",
    "     \"tools\":\"tools\"}\n",
    ")\n",
    "workflow.add_conditional_edges(\n",
    "    \"human\",\n",
    "    should_continue_with_feedback,\n",
    "    {\"agent\":\"agent\",\"end\":END}\n",
    ")\n",
    "\n",
    "workflow.add_edge(\"agent\", \"tools\")\n",
    "\n",
    "\n",
    "workflow.set_entry_point('agent')\n",
    "\n",
    "\n",
    "\n",
    "graph = workflow.compile()"
   ]
  },
  {
   "cell_type": "code",
   "execution_count": 4,
   "metadata": {},
   "outputs": [
    {
     "data": {
      "image/jpeg": "[encoded data removed]",
      "text/plain": [
       "<IPython.core.display.Image object>"
      ]
     },
     "metadata": {},
     "output_type": "display_data"
    }
   ],
   "source": [
    "from Libs.libs import *\n",
    "# from graph import  graph\n",
    "\n",
    "from IPython.display import Image, display\n",
    "\n",
    "\n",
    "display(Image(graph.get_graph(xray=True).draw_mermaid_png()))"
   ]
  },
  {
   "cell_type": "code",
   "execution_count": 5,
   "metadata": {},
   "outputs": [
    {
     "name": "stdout",
     "output_type": "stream",
     "text": [
      "{'agent': {'messages': [AIMessage(content='', additional_kwargs={'tool_calls': [{'id': 'call_DuJ9CFSlBUzXsP4qgvbH4f5T', 'function': {'arguments': '{\"text\":\"What are the latest features of the 2023 Mercedes-Benz models?\"}', 'name': 'mercedes_tool'}, 'type': 'function'}], 'refusal': None}, response_metadata={'token_usage': {'completion_tokens': 29, 'prompt_tokens': 88, 'total_tokens': 117, 'completion_tokens_details': {'reasoning_tokens': 0}}, 'model_name': 'gpt-4o-mini-2024-07-18', 'system_fingerprint': 'fp_f85bea6784', 'finish_reason': 'tool_calls', 'logprobs': None}, id='run-2f98fa5f-9f24-4caf-8bc2-f2c8f0b8b24b-0', tool_calls=[{'name': 'mercedes_tool', 'args': {'text': 'What are the latest features of the 2023 Mercedes-Benz models?'}, 'id': 'call_DuJ9CFSlBUzXsP4qgvbH4f5T', 'type': 'tool_call'}], usage_metadata={'input_tokens': 88, 'output_tokens': 29, 'total_tokens': 117})]}}\n",
      "-----\n",
      "{'tools': {'messages': [ToolMessage(content='content=\"As of 2023, Mercedes-Benz introduced several enhancements and features across its model lineup. Here are some of the notable updates and features:\\\\n\\\\n1. **MBUX Infotainment System**: The latest iteration of the Mercedes-Benz User Experience (MBUX) system includes improved voice recognition, more intuitive controls, and additional customization options. The system also offers augmented reality navigation, which overlays directions onto a live feed from the car\\'s cameras.\\\\n\\\\n2. **Advanced Driver Assistance Systems (ADAS)**: Many 2023 models come equipped with the latest version of Mercedes\\' driver assistance technology, including Active Steering Assist, Active Lane Change Assist, and Enhanced Adaptive Cruise Control. Some models also feature the new Drive Pilot system, which allows for automated driving in certain conditions.\\\\n\\\\n3. **Sustainable Materials**: Mercedes-Benz has emphasized sustainability, introducing more eco-friendly materials in their interiors, including recycled plastics and natural fibers, as part of their commitment to reducing environmental impact.\\\\n\\\\n4. **Electric Vehicle Expansion**: The EQ lineup continues to grow with new models like the EQS SUV and EQB, providing luxurious electric options with long ranges and advanced charging capabilities. Features include rapid DC charging and innovative energy management systems.\\\\n\\\\n5. **Performance Enhancements**: Performance-oriented models, especially within the AMG lineup, showcase improvements in power delivery, handling, and driving dynamics. The introduction of hybrid technology in some performance models allows for better efficiency without sacrificing power.\\\\n\\\\n6. **Enhanced Connectivity**: Features like wireless Apple CarPlay and Android Auto integration, along with over-the-air updates for software and navigation, ensure that vehicles remain up-to-date with the latest technology.\\\\n\\\\n7. **Personalization Options**: The 2023 models offer increased personalization options through the MBUX system, allowing drivers to customize ambient lighting, seating configurations, and even driving modes according to their preferences.\\\\n\\\\n8. **Safety Features**: Enhanced safety features include improved collision prevention systems, 360-degree cameras, and more comprehensive airbag systems that adapt to various crash scenarios.\\\\n\\\\n9. **Improved Comfort and Luxury Features**: Many 2023 models come with upgraded climate control systems, heated and ventilated seating, and advanced sound systems, contributing to a more luxurious driving experience.\\\\n\\\\nThese features reflect Mercedes-Benz\\'s commitment to innovation, luxury, and sustainability, aligning with modern consumer preferences and regulatory standards. For specific models, it\\'s advisable to check the official Mercedes-Benz website or a dealership for the most detailed and current information.\" additional_kwargs={\\'refusal\\': None} response_metadata={\\'token_usage\\': {\\'completion_tokens\\': 496, \\'prompt_tokens\\': 21, \\'total_tokens\\': 517, \\'completion_tokens_details\\': {\\'reasoning_tokens\\': 0}}, \\'model_name\\': \\'gpt-4o-mini-2024-07-18\\', \\'system_fingerprint\\': \\'fp_74ba47b4ac\\', \\'finish_reason\\': \\'stop\\', \\'logprobs\\': None} id=\\'run-10ff59fc-cc0b-46b1-971e-b896fb2376f8-0\\' usage_metadata={\\'input_tokens\\': 21, \\'output_tokens\\': 496, \\'total_tokens\\': 517}', name='mercedes_tool', tool_call_id='call_DuJ9CFSlBUzXsP4qgvbH4f5T')]}}\n",
      "-----\n"
     ]
    }
   ],
   "source": [
    "\n",
    "# final_state = graph.invoke(\n",
    "#     {\"messages\": [\n",
    "#         HumanMessage(content=input(\"Put your question: \"))\n",
    "#         ]},\n",
    "# )\n",
    "\n",
    "\n",
    "# for output in graph.stream(input):\n",
    "#     print(output)\n",
    "    \n",
    "    \n",
    "    \n",
    "\n",
    "user_input = \"Hi. is the doctor kevin anderson at 2024-09-03 9:00 am?\"\n",
    "user_input = \"Hi. What is mercedes? is it a car?\"\n",
    "inputs = {\"messages\":[HumanMessage(content=user_input)]}\n",
    "for s in graph.stream(inputs):\n",
    "    if \"__end__\" not in s:\n",
    "        print(s)\n",
    "        print(\"-----\")\n"
   ]
  },
  {
   "cell_type": "code",
   "execution_count": null,
   "metadata": {},
   "outputs": [],
   "source": []
  },
  {
   "cell_type": "code",
   "execution_count": 4,
   "metadata": {},
   "outputs": [
    {
     "name": "stdout",
     "output_type": "stream",
     "text": [
      "{'agent': {'messages': [AIMessage(content='', additional_kwargs={'tool_calls': [{'id': 'call_6N8jxFJ3torFnflKNDfhmFHW', 'function': {'arguments': '{}', 'name': 'check_availability_by_doctor'}, 'type': 'function'}], 'refusal': None}, response_metadata={'token_usage': {'completion_tokens': 14, 'prompt_tokens': 187, 'total_tokens': 201, 'completion_tokens_details': {'reasoning_tokens': 0}}, 'model_name': 'gpt-4o-mini-2024-07-18', 'system_fingerprint': 'fp_f85bea6784', 'finish_reason': 'tool_calls', 'logprobs': None}, id='run-d4aa19c2-9861-4489-a950-0bb9872b1666-0', tool_calls=[{'name': 'check_availability_by_doctor', 'args': {}, 'id': 'call_6N8jxFJ3torFnflKNDfhmFHW', 'type': 'tool_call'}], usage_metadata={'input_tokens': 187, 'output_tokens': 14, 'total_tokens': 201})]}}   <class 'langgraph.pregel.io.AddableUpdatesDict'>\n",
      "-----\n",
      "Tool entered\n",
      "{'tools': {'messages': [ToolMessage(content='2024-09-03 08:00Availablity for the doctor kevin andersonis+ +{availability}2024-09-03 08:30Availablity for the doctor kevin andersonis+ +{availability}2024-09-03 11:30Availablity for the doctor kevin andersonis+ +{availability}2024-09-03 12:00Availablity for the doctor kevin andersonis+ +{availability}2024-09-03 12:30Availablity for the doctor kevin andersonis+ +{availability}2024-09-03 13:00Availablity for the doctor kevin andersonis+ +{availability}2024-09-03 14:00Availablity for the doctor kevin andersonis+ +{availability}2024-09-03 14:30Availablity for the doctor kevin andersonis+ +{availability}2024-09-03 15:00Availablity for the doctor kevin andersonis+ +{availability}2024-09-03 15:30Availablity for the doctor kevin andersonis+ +{availability}2024-09-03 16:00Availablity for the doctor kevin andersonis+ +{availability}2024-09-03 16:30', name='check_availability_by_doctor', tool_call_id='call_6N8jxFJ3torFnflKNDfhmFHW')]}}   <class 'langgraph.pregel.io.AddableUpdatesDict'>\n",
      "-----\n"
     ]
    }
   ],
   "source": [
    "from Agent.agent_take2 import *\n",
    "user_input = \"Hi. is the doctor kevin anderson at 2024-09-03 9:00 am?\"\n",
    "\n",
    "inputs = {\"messages\":[HumanMessage(content=user_input)]}\n",
    "for s in graph.stream(inputs):\n",
    "    if \"__end__\" not in s:\n",
    "        print(s,\" \", type(s))\n",
    "        print(\"-----\")\n"
   ]
  },
  {
   "cell_type": "code",
   "execution_count": null,
   "metadata": {},
   "outputs": [],
   "source": []
  },
  {
   "cell_type": "code",
   "execution_count": null,
   "metadata": {},
   "outputs": [],
   "source": []
  },
  {
   "cell_type": "code",
   "execution_count": null,
   "metadata": {},
   "outputs": [],
   "source": []
  },
  {
   "cell_type": "code",
   "execution_count": null,
   "metadata": {},
   "outputs": [],
   "source": []
  }
 ],
 "metadata": {
  "kernelspec": {
   "display_name": "Python 3",
   "language": "python",
   "name": "python3"
  },
  "language_info": {
   "codemirror_mode": {
    "name": "ipython",
    "version": 3
   },
   "file_extension": ".py",
   "mimetype": "text/x-python",
   "name": "python",
   "nbconvert_exporter": "python",
   "pygments_lexer": "ipython3",
   "version": "3.11.0"
  }
 },
 "nbformat": 4,
 "nbformat_minor": 2
}
